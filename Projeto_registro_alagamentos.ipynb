{
  "cells": [
    {
      "cell_type": "markdown",
      "metadata": {
        "id": "view-in-github",
        "colab_type": "text"
      },
      "source": [
        "<a href=\"https://colab.research.google.com/github/fabiolfeitosa/FabioFeitosa/blob/main/Projeto_registro_alagamentos.ipynb\" target=\"_parent\"><img src=\"https://colab.research.google.com/assets/colab-badge.svg\" alt=\"Open In Colab\"/></a>"
      ]
    },
    {
      "cell_type": "markdown",
      "source": [
        "#Projeto: Registro de Alagamentos na Cidade"
      ],
      "metadata": {
        "id": "b8VtLmwEyIsh"
      },
      "id": "b8VtLmwEyIsh"
    },
    {
      "cell_type": "markdown",
      "source": [
        "Nesse projeto, desafio é realizar uma aplicação em que usuario faça registro de pontos de alagamentos pela cidade. Informando dados para login, registrando ocorrencias e atribuindo classificação de cada ocorrencia afim de gerar insights como solução de Infraestrutura Urbana, solução ao usuario como mensagens de alertas, entre outros. "
      ],
      "metadata": {
        "id": "EhbwlYZFzAPg"
      },
      "id": "EhbwlYZFzAPg"
    },
    {
      "cell_type": "markdown",
      "source": [
        "#Criação do Banco de Dados **SQL**"
      ],
      "metadata": {
        "id": "H_Fefzb72H4g"
      },
      "id": "H_Fefzb72H4g"
    },
    {
      "cell_type": "markdown",
      "source": [
        "Abaixo script de criação do banco de dados utilizado no MySql Workbench, logo após foi usado como ferramenta de servidor local o WampServer.\n",
        "\n",
        "CREATE DATABASE db_sp_alagamentos;\n",
        "\n",
        "USE db_sp_alagamentos;\n",
        "\n",
        "CREATE TABLE usuario (\n",
        "    Id_User INT PRIMARY KEY AUTO_INCREMENT, \n",
        "    NOME varchar(255) NOT NULL, \n",
        "    Email VARCHAR(255) NOT NULL,\n",
        "\tSenha VARCHAR(8) NOT NULL,\n",
        "\tTelefone VARCHAR(11)\n",
        "\t);\n",
        "\t\n",
        "CREATE TABLE ocorrencias (\n",
        "\tId_User INT NOT NULL,\n",
        "\tN_Registro INT PRIMARY KEY AUTO_INCREMENT,\n",
        "\tHorario TIMESTAMP NULL DEFAULT CURRENT_TIMESTAMP,\n",
        "\tRua VARCHAR(255) NOT NULL,\n",
        "\tBairro VARCHAR(255) NOT NULL,\n",
        "\tCidade VARCHAR(255) NOT NULL,\n",
        "\tEstado CHAR(2) NOT NULL,\n",
        "\tIntensidade ENUM('Leve', 'Moderado','Grave'),\n",
        "\tClassificacao ENUM('Alagamento localizado', 'Intransitável'),\n",
        "\tFOREIGN KEY (Id_User) REFERENCES usuario(Id_User)\n",
        "\t);"
      ],
      "metadata": {
        "id": "NSsOo39x2OPg"
      },
      "id": "NSsOo39x2OPg"
    },
    {
      "cell_type": "markdown",
      "source": [
        "#Script **Python**"
      ],
      "metadata": {
        "id": "w8LHtHyk3tFX"
      },
      "id": "w8LHtHyk3tFX"
    },
    {
      "cell_type": "code",
      "execution_count": null,
      "id": "391886fb",
      "metadata": {
        "id": "391886fb"
      },
      "outputs": [],
      "source": [
        "#instalando biblioteca\n",
        "pip install mysql-connector-python"
      ]
    },
    {
      "cell_type": "code",
      "execution_count": null,
      "id": "32f4fc13",
      "metadata": {
        "id": "32f4fc13"
      },
      "outputs": [],
      "source": [
        "# Importamos a biblioteca:\n",
        "import mysql.connector"
      ]
    },
    {
      "cell_type": "code",
      "execution_count": null,
      "id": "d7846989",
      "metadata": {
        "id": "d7846989"
      },
      "outputs": [],
      "source": [
        "# Conectando ao database:\n",
        "conexao = mysql.connector.connect(host='localhost', db= 'db_sp_alagamentos', user='root', passwd='')"
      ]
    },
    {
      "cell_type": "code",
      "execution_count": null,
      "id": "5991ea2f",
      "metadata": {
        "id": "5991ea2f"
      },
      "outputs": [],
      "source": [
        "#Testando conexao\n",
        "if conexao.is_connected():\n",
        "    db_info = conexao.get_server_info()\n",
        "    print('Conectado ao servidor Mysql', db_info)\n",
        "    cursor = conexao.cursor() #cursor é um objeto que permite navegar/manipular db\n",
        "    cursor.execute('select database();')\n",
        "    linha = cursor.fetchone() #fetchone retorna apenas uma linha\n",
        "    print('Conectado ao database : ', linha)"
      ]
    },
    {
      "cell_type": "code",
      "execution_count": null,
      "id": "17c294bf",
      "metadata": {
        "id": "17c294bf"
      },
      "outputs": [],
      "source": [
        "#Funcao de cadastro das ocorrencias\n",
        "def reg_ocorrencias():\n",
        "    banco = mysql.connector.connect(host='localhost', db= 'db_sp_alagamentos', user='root', passwd='')\n",
        "    cursor = banco.cursor()\n",
        "    email_user = input('Digite email novamente:')\n",
        "    cursor.execute(\"SELECT Id_User from usuario WHERE Email = '{}'\".format(email_user))\n",
        "    id_user_db = cursor.fetchall()\n",
        "    print(id_user_db[0][0])\n",
        "   \n",
        "        \n",
        "    reg_id = int(id_user_db[0][0])\n",
        "    reg_rua = input(\"Insira Rua/Av: \")    \n",
        "    reg_bairro = input(\"Insira Bairro: \")    \n",
        "    reg_cidade = input(\"Insira Cidade: \")    \n",
        "    reg_estado = input(\"Insira Estado: \")    \n",
        "    reg_intensidade = input(\"Insira classificacao de intensidade sendo Leve, Moderado ou Grave: )\")    \n",
        "    reg_classificacao = input(\"Classificacao como Alagamento localizado ou Intransitável: )\")    \n",
        "    cursor.execute(\"\"\"INSERT INTO ocorrencias(Id_User, Rua, Bairro, Cidade, Estado, Intensidade, Classificacao) VALUES (%s,%s, %s, %s, %s,%s, %s)\"\"\",\n",
        "    (reg_id, reg_rua, reg_bairro, reg_cidade, reg_estado, reg_intensidade,reg_classificacao)) \n",
        "    conexao.commit()\n",
        "    print(\"Ocorrencia inserido com sucesso!\")\n",
        "    cursor.close()\n",
        "    banco.close()"
      ]
    },
    {
      "cell_type": "code",
      "execution_count": null,
      "id": "8b905f69",
      "metadata": {
        "id": "8b905f69"
      },
      "outputs": [],
      "source": [
        "#função de cadastro do usuario\n",
        "def reg_usuario():\n",
        "\n",
        "    reg_nome = input(\" Insira seu nome completo: \")\n",
        "    \n",
        "    reg_email = input(\"Insira Email: \")\n",
        "    \n",
        "    reg_senha = int(input(\"Insira senha de acesso ao app com 8 digitos numéricos: \"))\n",
        "    \n",
        "    reg_tel = int(input(\"Insira telefone com DDD - apenas numeros: )\"))\n",
        "    \n",
        "    cursor.execute(\"\"\"INSERT INTO usuario(Nome, Email, Senha, Telefone) VALUES (%s, %s, %s, %s)\"\"\", (reg_nome, reg_email, reg_senha, reg_tel)) \n",
        "    conexao.commit()\n",
        "    print(\"Dados usuario inseridos com sucesso!\")"
      ]
    },
    {
      "cell_type": "code",
      "execution_count": null,
      "id": "ec6e2108",
      "metadata": {
        "id": "ec6e2108"
      },
      "outputs": [],
      "source": [
        "#funcao de login\n",
        "def login():\n",
        "    email_user = input(\"Digite email de acesso: \")\n",
        "    senha = input(\"Digite a senha: \")\n",
        "    banco = mysql.connector.connect(host='localhost', db= 'db_sp_alagamentos', user='root', passwd='')\n",
        "    cursor = banco.cursor()\n",
        "    try:\n",
        "        cursor.execute(\"SELECT Senha from usuario WHERE Email = '{}'\".format(email_user))\n",
        "        senha_db = cursor.fetchall()\n",
        "        print(senha_db[0][0])#remover por segurança a senha\n",
        "        cursor.execute(\"SELECT Email from usuario WHERE Email = '{}'\".format(email_user))\n",
        "        email_db = cursor.fetchall()\n",
        "        banco.close()\n",
        "    \n",
        "        if senha == senha_db[0][0] and email_user == email_db[0][0]:\n",
        "            print(\"Usuario conectado, faça registro da sua ocorrencia\")\n",
        "            reg_ocorrencias()\n",
        "         \n",
        "        elif senha != senha_db[0][0] and email_user == email_db[0][0]:\n",
        "            print(\"Senha Invalida!\")\n",
        "        \n",
        "    except:\n",
        "        reg_usuario()\n",
        "        print('Cadastro do usuario inserido!')"
      ]
    },
    {
      "cell_type": "code",
      "execution_count": null,
      "id": "3cb0dd79",
      "metadata": {
        "id": "3cb0dd79"
      },
      "outputs": [],
      "source": [
        "#chamada da função de login\n",
        "login() "
      ]
    },
    {
      "cell_type": "code",
      "execution_count": null,
      "id": "3439bc73",
      "metadata": {
        "id": "3439bc73"
      },
      "outputs": [],
      "source": [
        "#encerrando conexao\n",
        "if conexao.is_connected():\n",
        "    cursor.close()\n",
        "    conexao.close()\n",
        "    print('Conexao encerrado')"
      ]
    },
    {
      "cell_type": "code",
      "execution_count": null,
      "id": "0b474b94",
      "metadata": {
        "id": "0b474b94"
      },
      "outputs": [],
      "source": [
        "#para executavel não encerrar sozinho após finalizar\n",
        "input(\"Pressione <enter> para encerrar!\")"
      ]
    }
  ],
  "metadata": {
    "kernelspec": {
      "display_name": "Python 3 (ipykernel)",
      "language": "python",
      "name": "python3"
    },
    "language_info": {
      "codemirror_mode": {
        "name": "ipython",
        "version": 3
      },
      "file_extension": ".py",
      "mimetype": "text/x-python",
      "name": "python",
      "nbconvert_exporter": "python",
      "pygments_lexer": "ipython3",
      "version": "3.9.7"
    },
    "colab": {
      "provenance": [],
      "include_colab_link": true
    }
  },
  "nbformat": 4,
  "nbformat_minor": 5
}