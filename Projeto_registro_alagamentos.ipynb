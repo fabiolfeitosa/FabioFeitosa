{
 "cells": [
  {
   "cell_type": "code",
   "execution_count": 1,
   "id": "391886fb",
   "metadata": {},
   "outputs": [
    {
     "ename": "SyntaxError",
     "evalue": "invalid syntax (Temp/ipykernel_13660/3218638615.py, line 2)",
     "output_type": "error",
     "traceback": [
      "\u001b[1;36m  File \u001b[1;32m\"C:\\Users\\fabio\\AppData\\Local\\Temp/ipykernel_13660/3218638615.py\"\u001b[1;36m, line \u001b[1;32m2\u001b[0m\n\u001b[1;33m    pip install mysql-connector-python\u001b[0m\n\u001b[1;37m        ^\u001b[0m\n\u001b[1;31mSyntaxError\u001b[0m\u001b[1;31m:\u001b[0m invalid syntax\n"
     ]
    }
   ],
   "source": [
    "#instalando biblioteca\n",
    "pip install mysql-connector-python"
   ]
  },
  {
   "cell_type": "code",
   "execution_count": 1,
   "id": "32f4fc13",
   "metadata": {},
   "outputs": [],
   "source": [
    "# Importamos a biblioteca:\n",
    "import mysql.connector"
   ]
  },
  {
   "cell_type": "code",
   "execution_count": 2,
   "id": "d7846989",
   "metadata": {},
   "outputs": [],
   "source": [
    "# Conectando ao database:\n",
    "conexao = mysql.connector.connect(host='localhost', db= 'db_sp_alagamentos', user='root', passwd='')"
   ]
  },
  {
   "cell_type": "code",
   "execution_count": 3,
   "id": "5991ea2f",
   "metadata": {},
   "outputs": [
    {
     "name": "stdout",
     "output_type": "stream",
     "text": [
      "Conectado ao servidor Mysql 8.0.31\n",
      "Conectado ao database :  ('db_sp_alagamentos',)\n"
     ]
    }
   ],
   "source": [
    "#Testando conexao\n",
    "if conexao.is_connected():\n",
    "    db_info = conexao.get_server_info()\n",
    "    print('Conectado ao servidor Mysql', db_info)\n",
    "    cursor = conexao.cursor() #cursor é um objeto que permite navegar/manipular db\n",
    "    cursor.execute('select database();')\n",
    "    linha = cursor.fetchone() #fetchone retorna apenas uma linha\n",
    "    print('Conectado ao database : ', linha)"
   ]
  },
  {
   "cell_type": "code",
   "execution_count": 4,
   "id": "17c294bf",
   "metadata": {},
   "outputs": [],
   "source": [
    "#Funcao de cadastro das ocorrencias\n",
    "def reg_ocorrencias():\n",
    "    banco = mysql.connector.connect(host='localhost', db= 'db_sp_alagamentos', user='root', passwd='')\n",
    "    cursor = banco.cursor()\n",
    "    email_user = input('Digite email novamente:')\n",
    "    cursor.execute(\"SELECT Id_User from usuario WHERE Email = '{}'\".format(email_user))\n",
    "    id_user_db = cursor.fetchall()\n",
    "    print(id_user_db[0][0])\n",
    "   \n",
    "        \n",
    "    reg_id = int(id_user_db[0][0])\n",
    "    reg_rua = input(\"Insira Rua/Av: \")    \n",
    "    reg_bairro = input(\"Insira Bairro: \")    \n",
    "    reg_cidade = input(\"Insira Cidade: \")    \n",
    "    reg_estado = input(\"Insira Estado: \")    \n",
    "    reg_intensidade = input(\"Insira classificacao de intensidade sendo Leve, Moderado ou Grave: )\")    \n",
    "    reg_classificacao = input(\"Classificacao como Alagamento localizado ou Intransitável: )\")    \n",
    "    cursor.execute(\"\"\"INSERT INTO ocorrencias(Id_User, Rua, Bairro, Cidade, Estado, Intensidade, Classificacao) VALUES (%s,%s, %s, %s, %s,%s, %s)\"\"\",\n",
    "    (reg_id, reg_rua, reg_bairro, reg_cidade, reg_estado, reg_intensidade,reg_classificacao)) \n",
    "    conexao.commit()\n",
    "    print(\"Ocorrencia inserido com sucesso!\")\n",
    "    cursor.close()\n",
    "    banco.close()"
   ]
  },
  {
   "cell_type": "code",
   "execution_count": 5,
   "id": "8b905f69",
   "metadata": {},
   "outputs": [],
   "source": [
    "#função de cadastro do usuario\n",
    "def reg_usuario():\n",
    "\n",
    "    reg_nome = input(\" Insira seu nome completo: \")\n",
    "    \n",
    "    reg_email = input(\"Insira Email: \")\n",
    "    \n",
    "    reg_senha = int(input(\"Insira senha de acesso ao app com 8 digitos numéricos: \"))\n",
    "    \n",
    "    reg_tel = int(input(\"Insira telefone com DDD - apenas numeros: )\"))\n",
    "    \n",
    "    cursor.execute(\"\"\"INSERT INTO usuario(Nome, Email, Senha, Telefone) VALUES (%s, %s, %s, %s)\"\"\", (reg_nome, reg_email, reg_senha, reg_tel)) \n",
    "    conexao.commit()\n",
    "    print(\"Dados usuario inseridos com sucesso!\")"
   ]
  },
  {
   "cell_type": "code",
   "execution_count": 6,
   "id": "ec6e2108",
   "metadata": {},
   "outputs": [],
   "source": [
    "#funcao de login\n",
    "def login():\n",
    "    email_user = input(\"Digite email de acesso: \")\n",
    "    senha = input(\"Digite a senha: \")\n",
    "    banco = mysql.connector.connect(host='localhost', db= 'db_sp_alagamentos', user='root', passwd='')\n",
    "    cursor = banco.cursor()\n",
    "    try:\n",
    "        cursor.execute(\"SELECT Senha from usuario WHERE Email = '{}'\".format(email_user))\n",
    "        senha_db = cursor.fetchall()\n",
    "        print(senha_db[0][0])#remover por segurança a senha\n",
    "        cursor.execute(\"SELECT Email from usuario WHERE Email = '{}'\".format(email_user))\n",
    "        email_db = cursor.fetchall()\n",
    "        banco.close()\n",
    "    \n",
    "        if senha == senha_db[0][0] and email_user == email_db[0][0]:\n",
    "            print(\"Usuario conectado, faça registro da sua ocorrencia\")\n",
    "            reg_ocorrencias()\n",
    "         \n",
    "        elif senha != senha_db[0][0] and email_user == email_db[0][0]:\n",
    "            print(\"Senha Invalida!\")\n",
    "        \n",
    "    except:\n",
    "        reg_usuario()\n",
    "        print('Cadastro do usuario inserido!')"
   ]
  },
  {
   "cell_type": "code",
   "execution_count": 8,
   "id": "3cb0dd79",
   "metadata": {},
   "outputs": [
    {
     "name": "stdout",
     "output_type": "stream",
     "text": [
      "Digite email de acesso: maicon@gmail.com\n",
      "Digite a senha: 1\n",
      "123\n",
      "Senha Invalida!\n"
     ]
    }
   ],
   "source": [
    "#chamada da função de login\n",
    "login() "
   ]
  },
  {
   "cell_type": "code",
   "execution_count": null,
   "id": "3439bc73",
   "metadata": {},
   "outputs": [],
   "source": [
    "#encerrando conexao\n",
    "if conexao.is_connected():\n",
    "    cursor.close()\n",
    "    conexao.close()\n",
    "    print('Conexao encerrado')"
   ]
  },
  {
   "cell_type": "code",
   "execution_count": null,
   "id": "0b474b94",
   "metadata": {},
   "outputs": [],
   "source": [
    "#para executavel não encerrar sozinho após finalizar\n",
    "input(\"Pressione <enter> para encerrar!\")"
   ]
  },
  {
   "cell_type": "code",
   "execution_count": null,
   "id": "af3bc403",
   "metadata": {},
   "outputs": [],
   "source": []
  },
  {
   "cell_type": "code",
   "execution_count": null,
   "id": "4a59e60e",
   "metadata": {},
   "outputs": [],
   "source": []
  },
  {
   "cell_type": "code",
   "execution_count": null,
   "id": "497efd8c",
   "metadata": {},
   "outputs": [],
   "source": []
  },
  {
   "cell_type": "code",
   "execution_count": null,
   "id": "028c9ead",
   "metadata": {},
   "outputs": [],
   "source": []
  }
 ],
 "metadata": {
  "kernelspec": {
   "display_name": "Python 3 (ipykernel)",
   "language": "python",
   "name": "python3"
  },
  "language_info": {
   "codemirror_mode": {
    "name": "ipython",
    "version": 3
   },
   "file_extension": ".py",
   "mimetype": "text/x-python",
   "name": "python",
   "nbconvert_exporter": "python",
   "pygments_lexer": "ipython3",
   "version": "3.9.7"
  }
 },
 "nbformat": 4,
 "nbformat_minor": 5
}
