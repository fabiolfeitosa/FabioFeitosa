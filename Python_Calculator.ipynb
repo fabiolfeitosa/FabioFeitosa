{
  "nbformat": 4,
  "nbformat_minor": 0,
  "metadata": {
    "colab": {
      "provenance": [],
      "collapsed_sections": [],
      "authorship_tag": "ABX9TyNolN2qx6vBPJrSh8SFcn0j",
      "include_colab_link": true
    },
    "kernelspec": {
      "name": "python3",
      "display_name": "Python 3"
    },
    "language_info": {
      "name": "python"
    }
  },
  "cells": [
    {
      "cell_type": "markdown",
      "metadata": {
        "id": "view-in-github",
        "colab_type": "text"
      },
      "source": [
        "<a href=\"https://colab.research.google.com/github/fabiolfeitosa/FabioFeitosa/blob/main/Python_Calculator.ipynb\" target=\"_parent\"><img src=\"https://colab.research.google.com/assets/colab-badge.svg\" alt=\"Open In Colab\"/></a>"
      ]
    },
    {
      "cell_type": "code",
      "execution_count": 9,
      "metadata": {
        "colab": {
          "base_uri": "https://localhost:8080/"
        },
        "id": "vXGzhPkDxa5F",
        "outputId": "1c576742-b4d1-431c-b768-f0a703585bca"
      },
      "outputs": [
        {
          "output_type": "stream",
          "name": "stdout",
          "text": [
            "**************Python Calculator************** \n",
            "\n",
            "\n",
            "\n",
            " Selecione qual operação deseja: \n",
            "\n",
            "\n",
            "1-Soma\n",
            "2-Subtração\n",
            "3-Multiplicação\n",
            "4-Divisao\n",
            "\n",
            "Digite sua opção (1/2/3/4):1\n",
            "\n",
            "Digite primeiro numero da operação:1\n",
            "\n",
            "Digite segundo numero da operação:1\n",
            "1.0 + 1.0 = 2.0\n"
          ]
        }
      ],
      "source": [
        "def soma(num_1, num_2):\n",
        "    total = num_1 + num_2\n",
        "    print(num_1, '+', num_2, '=', total);\n",
        "\n",
        "def subt(num_1, num_2):\n",
        "    total = num_1 - num_2\n",
        "    print(num_1, '-', num_2, '=', total);\n",
        "\n",
        "def mult(num_1, num_2):\n",
        "    total = num_1 * num_2\n",
        "    print(num_1, '*', num_2, '=', total);\n",
        "\n",
        "def div(num_1, num_2):\n",
        "    total = num_1 / num_2\n",
        "    print(num_1, '/', num_2, '=', total);\n",
        "\n",
        "\n",
        "print('**************Python Calculator************** \\n\\n\\n\\n Selecione qual operação deseja: \\n\\n\\n1-Soma\\n2-Subtração\\n3-Multiplicação\\n4-Divisao')\n",
        "\n",
        "opcao = int(input('\\nDigite sua opção (1/2/3/4):'))\n",
        "\n",
        "num_1 = float(input('\\nDigite primeiro numero da operação:'))\n",
        "\n",
        "num_2 = float(input('\\nDigite segundo numero da operação:'))\n",
        "\n",
        "if opcao == 1:\n",
        "  soma(num_1, num_2),\n",
        "  total = num_1 + num_2;\n",
        "\n",
        "elif opcao == 2:\n",
        "  subt(num_1, num_2),\n",
        "  total = num_1 - num_2;\n",
        "\n",
        "elif opcao == 3:\n",
        "  mult(num_1, num_2),\n",
        "  total = num_1 * num_2;\n",
        "\n",
        "elif opcao == 4:\n",
        "  div(num_1, num_2),\n",
        "  total = num_1 / num_2;\n",
        "\n",
        "else:\n",
        "  print('Opção errado, escolha de 1 a 4!')\n",
        "\n",
        "\n",
        "  \n",
        "\n",
        "\n",
        "\n"
      ]
    },
    {
      "cell_type": "code",
      "source": [],
      "metadata": {
        "id": "AXEoSmHD4N0_"
      },
      "execution_count": null,
      "outputs": []
    }
  ]
}