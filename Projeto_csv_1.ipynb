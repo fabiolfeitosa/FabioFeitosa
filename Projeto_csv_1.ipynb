{
  "nbformat": 4,
  "nbformat_minor": 0,
  "metadata": {
    "colab": {
      "provenance": [],
      "collapsed_sections": [
        "4vzT2zm8PMvj",
        "W-lX2O61Pkl7"
      ],
      "mount_file_id": "1fHhFa1E2GMBG9i88wkjya2kqGehrPp5r",
      "authorship_tag": "ABX9TyOjy3+LWSIAyAI6DwLnAFYK"
    },
    "kernelspec": {
      "name": "python3",
      "display_name": "Python 3"
    },
    "language_info": {
      "name": "python"
    }
  },
  "cells": [
    {
      "cell_type": "markdown",
      "source": [
        "# Para Lembrar"
      ],
      "metadata": {
        "id": "4vzT2zm8PMvj"
      }
    },
    {
      "cell_type": "code",
      "source": [
        "df.head()"
      ],
      "metadata": {
        "id": "7TLN9MFIOggS"
      },
      "execution_count": null,
      "outputs": []
    },
    {
      "cell_type": "code",
      "source": [
        "display(df)"
      ],
      "metadata": {
        "id": "e39g3CHOOvaU"
      },
      "execution_count": null,
      "outputs": []
    },
    {
      "cell_type": "code",
      "source": [
        "df.describe()"
      ],
      "metadata": {
        "id": "-H0HJ4aeP-v-"
      },
      "execution_count": null,
      "outputs": []
    },
    {
      "cell_type": "code",
      "source": [
        "df.isna().sum()\n",
        "#função para verificar e somar nulos"
      ],
      "metadata": {
        "id": "TVXrhM05Qdih"
      },
      "execution_count": null,
      "outputs": []
    },
    {
      "cell_type": "code",
      "source": [
        "print(df['Customer_Age'].mean())"
      ],
      "metadata": {
        "id": "SJRGkrzbRasN"
      },
      "execution_count": null,
      "outputs": []
    },
    {
      "cell_type": "code",
      "source": [
        "import seaborn as sns\n",
        "import matplotlib.pyplot as plt\n",
        "import numpy as np\n"
      ],
      "metadata": {
        "id": "GiCX8z5FR5jU"
      },
      "execution_count": null,
      "outputs": []
    },
    {
      "cell_type": "code",
      "source": [
        "sns.boxplot(x = df['Customer_Age'])\n",
        "plt.show()"
      ],
      "metadata": {
        "id": "CC7oYCGmSCFJ"
      },
      "execution_count": null,
      "outputs": []
    },
    {
      "cell_type": "code",
      "source": [
        "plt.plot(['Customer_age'],['Income_category'])\n",
        "plt.show()"
      ],
      "metadata": {
        "id": "7jynkyDUS9Bm"
      },
      "execution_count": null,
      "outputs": []
    },
    {
      "cell_type": "code",
      "source": [
        "df['Customer_Age'].mode()\n",
        "#moda de apenas uma coluna"
      ],
      "metadata": {
        "id": "d7TDPXR3be78"
      },
      "execution_count": null,
      "outputs": []
    },
    {
      "cell_type": "code",
      "source": [
        "df['Customer_Age'].quantile(0.8)\n",
        "#quartil de 80"
      ],
      "metadata": {
        "id": "rflSSA3acbdN"
      },
      "execution_count": null,
      "outputs": []
    },
    {
      "cell_type": "markdown",
      "source": [
        "#Medidas de Tendencia Central"
      ],
      "metadata": {
        "id": "W-lX2O61Pkl7"
      }
    },
    {
      "cell_type": "code",
      "source": [
        "#média\n",
        "#mediana\n",
        "#moda\n",
        "#min\n",
        "\n",
        "print('media: ',tabela[' Valor '].mean())\n",
        "print('mediana: ',tabela[' Valor '].median())\n",
        "print('moda: ',tabela[' Valor '].mode())\n",
        "print('minimo: ',tabela[' Valor '].min())\n"
      ],
      "metadata": {
        "colab": {
          "base_uri": "https://localhost:8080/"
        },
        "id": "mARlU9RBQNXK",
        "outputId": "bb9097f0-791a-4cfd-c4fc-76a9845c4fa5"
      },
      "execution_count": null,
      "outputs": [
        {
          "output_type": "stream",
          "name": "stdout",
          "text": [
            "media:  480.285920030218\n",
            "mediana:  303.0\n",
            "moda:  0    15.0\n",
            "dtype: float64\n",
            "minimo:  0.38\n"
          ]
        }
      ]
    },
    {
      "cell_type": "code",
      "source": [
        "#variancia\n",
        "#desvio padrao\n",
        "\n",
        "print('variancia: ',round(tabela[' Valor '].var()))\n",
        "print('desvio padrao: ',round(tabela[' Valor '].std(), 2))"
      ],
      "metadata": {
        "colab": {
          "base_uri": "https://localhost:8080/"
        },
        "id": "_C_c32h2SEvJ",
        "outputId": "06e8d2af-27d5-47b3-cc58-4ab2fbbb2d8b"
      },
      "execution_count": null,
      "outputs": [
        {
          "output_type": "stream",
          "name": "stdout",
          "text": [
            "variancia:  2815322\n",
            "desvio padrao:  1677.89\n"
          ]
        }
      ]
    },
    {
      "cell_type": "code",
      "source": [
        "#covariancia\n",
        "#correlacao\n",
        "\n",
        "print(tabela.cov())\n",
        "print(tabela.corr())"
      ],
      "metadata": {
        "colab": {
          "base_uri": "https://localhost:8080/"
        },
        "id": "My1UIhW9Skmq",
        "outputId": "a29edbd1-2be2-4bf5-e89b-d057943aff30"
      },
      "execution_count": null,
      "outputs": [
        {
          "output_type": "stream",
          "name": "stdout",
          "text": [
            "              N° da fatura    ID Cliente    Quantidade        Valor \n",
            "N° da fatura  1.700462e+08 -2.226784e+05  1.613480e+05  3.206577e+05\n",
            "ID Cliente   -2.226784e+05  3.007159e+06 -3.350425e+04 -3.332770e+04\n",
            "Quantidade    1.613480e+05 -3.350425e+04  9.455781e+05  1.479037e+06\n",
            " Valor        3.206577e+05 -3.332770e+04  1.479037e+06  2.815322e+06\n",
            "              N° da fatura  ID Cliente  Quantidade    Valor \n",
            "N° da fatura      1.000000   -0.009847    0.012724  0.014655\n",
            "ID Cliente       -0.009847    1.000000   -0.019869 -0.011454\n",
            "Quantidade        0.012724   -0.019869    1.000000  0.906497\n",
            " Valor            0.014655   -0.011454    0.906497  1.000000\n"
          ]
        }
      ]
    },
    {
      "cell_type": "markdown",
      "source": [
        "# Análise"
      ],
      "metadata": {
        "id": "jr1q4w1jPZ-6"
      }
    },
    {
      "cell_type": "code",
      "source": [
        "#import csv com pandas, indicar separador csv, informar decimal ',' sendo ponto\n",
        "import pandas as pd\n",
        "import numpy as np\n",
        "tabela = pd.read_csv('Mysql_vendas_fatura.csv', sep=';', decimal=',')\n",
        "\n",
        "display(tabela)"
      ],
      "metadata": {
        "colab": {
          "base_uri": "https://localhost:8080/",
          "height": 423
        },
        "id": "YkH76bs-u-WF",
        "outputId": "8d80bf1f-5ec5-465a-951c-d45d56960f9d"
      },
      "execution_count": 2,
      "outputs": [
        {
          "output_type": "display_data",
          "data": {
            "text/plain": [
              "       N° da fatura Data da fatura  ID Cliente            País  Quantidade  \\\n",
              "0            581483     09/12/2021       16446  United Kingdom       80995   \n",
              "1            541431     18/01/2021       12346  United Kingdom       74215   \n",
              "2            556917     15/06/2021       12415       Australia       15049   \n",
              "3            563076     11/08/2021       14646     Netherlands       14730   \n",
              "4            572035     20/10/2021       14646     Netherlands       13392   \n",
              "...             ...            ...         ...             ...         ...   \n",
              "18527        572774     26/10/2021       16966  United Kingdom           1   \n",
              "18528        562424     04/08/2021       12584           Italy           1   \n",
              "18529        570554     11/10/2021       14800  United Kingdom           1   \n",
              "18530        570681     11/10/2021       12381          Norway           1   \n",
              "18531        569099     30/09/2021       17961  United Kingdom           1   \n",
              "\n",
              "          Valor   \n",
              "0      168469.60  \n",
              "1       77183.60  \n",
              "2       22775.93  \n",
              "3       19150.66  \n",
              "4       20277.92  \n",
              "...          ...  \n",
              "18527       3.25  \n",
              "18528      12.75  \n",
              "18529       0.38  \n",
              "18530       6.00  \n",
              "18531       3.25  \n",
              "\n",
              "[18532 rows x 6 columns]"
            ],
            "text/html": [
              "\n",
              "  <div id=\"df-31648660-1ef5-41f6-a8f7-ab3ff7d03e11\">\n",
              "    <div class=\"colab-df-container\">\n",
              "      <div>\n",
              "<style scoped>\n",
              "    .dataframe tbody tr th:only-of-type {\n",
              "        vertical-align: middle;\n",
              "    }\n",
              "\n",
              "    .dataframe tbody tr th {\n",
              "        vertical-align: top;\n",
              "    }\n",
              "\n",
              "    .dataframe thead th {\n",
              "        text-align: right;\n",
              "    }\n",
              "</style>\n",
              "<table border=\"1\" class=\"dataframe\">\n",
              "  <thead>\n",
              "    <tr style=\"text-align: right;\">\n",
              "      <th></th>\n",
              "      <th>N° da fatura</th>\n",
              "      <th>Data da fatura</th>\n",
              "      <th>ID Cliente</th>\n",
              "      <th>País</th>\n",
              "      <th>Quantidade</th>\n",
              "      <th>Valor</th>\n",
              "    </tr>\n",
              "  </thead>\n",
              "  <tbody>\n",
              "    <tr>\n",
              "      <th>0</th>\n",
              "      <td>581483</td>\n",
              "      <td>09/12/2021</td>\n",
              "      <td>16446</td>\n",
              "      <td>United Kingdom</td>\n",
              "      <td>80995</td>\n",
              "      <td>168469.60</td>\n",
              "    </tr>\n",
              "    <tr>\n",
              "      <th>1</th>\n",
              "      <td>541431</td>\n",
              "      <td>18/01/2021</td>\n",
              "      <td>12346</td>\n",
              "      <td>United Kingdom</td>\n",
              "      <td>74215</td>\n",
              "      <td>77183.60</td>\n",
              "    </tr>\n",
              "    <tr>\n",
              "      <th>2</th>\n",
              "      <td>556917</td>\n",
              "      <td>15/06/2021</td>\n",
              "      <td>12415</td>\n",
              "      <td>Australia</td>\n",
              "      <td>15049</td>\n",
              "      <td>22775.93</td>\n",
              "    </tr>\n",
              "    <tr>\n",
              "      <th>3</th>\n",
              "      <td>563076</td>\n",
              "      <td>11/08/2021</td>\n",
              "      <td>14646</td>\n",
              "      <td>Netherlands</td>\n",
              "      <td>14730</td>\n",
              "      <td>19150.66</td>\n",
              "    </tr>\n",
              "    <tr>\n",
              "      <th>4</th>\n",
              "      <td>572035</td>\n",
              "      <td>20/10/2021</td>\n",
              "      <td>14646</td>\n",
              "      <td>Netherlands</td>\n",
              "      <td>13392</td>\n",
              "      <td>20277.92</td>\n",
              "    </tr>\n",
              "    <tr>\n",
              "      <th>...</th>\n",
              "      <td>...</td>\n",
              "      <td>...</td>\n",
              "      <td>...</td>\n",
              "      <td>...</td>\n",
              "      <td>...</td>\n",
              "      <td>...</td>\n",
              "    </tr>\n",
              "    <tr>\n",
              "      <th>18527</th>\n",
              "      <td>572774</td>\n",
              "      <td>26/10/2021</td>\n",
              "      <td>16966</td>\n",
              "      <td>United Kingdom</td>\n",
              "      <td>1</td>\n",
              "      <td>3.25</td>\n",
              "    </tr>\n",
              "    <tr>\n",
              "      <th>18528</th>\n",
              "      <td>562424</td>\n",
              "      <td>04/08/2021</td>\n",
              "      <td>12584</td>\n",
              "      <td>Italy</td>\n",
              "      <td>1</td>\n",
              "      <td>12.75</td>\n",
              "    </tr>\n",
              "    <tr>\n",
              "      <th>18529</th>\n",
              "      <td>570554</td>\n",
              "      <td>11/10/2021</td>\n",
              "      <td>14800</td>\n",
              "      <td>United Kingdom</td>\n",
              "      <td>1</td>\n",
              "      <td>0.38</td>\n",
              "    </tr>\n",
              "    <tr>\n",
              "      <th>18530</th>\n",
              "      <td>570681</td>\n",
              "      <td>11/10/2021</td>\n",
              "      <td>12381</td>\n",
              "      <td>Norway</td>\n",
              "      <td>1</td>\n",
              "      <td>6.00</td>\n",
              "    </tr>\n",
              "    <tr>\n",
              "      <th>18531</th>\n",
              "      <td>569099</td>\n",
              "      <td>30/09/2021</td>\n",
              "      <td>17961</td>\n",
              "      <td>United Kingdom</td>\n",
              "      <td>1</td>\n",
              "      <td>3.25</td>\n",
              "    </tr>\n",
              "  </tbody>\n",
              "</table>\n",
              "<p>18532 rows × 6 columns</p>\n",
              "</div>\n",
              "      <button class=\"colab-df-convert\" onclick=\"convertToInteractive('df-31648660-1ef5-41f6-a8f7-ab3ff7d03e11')\"\n",
              "              title=\"Convert this dataframe to an interactive table.\"\n",
              "              style=\"display:none;\">\n",
              "        \n",
              "  <svg xmlns=\"http://www.w3.org/2000/svg\" height=\"24px\"viewBox=\"0 0 24 24\"\n",
              "       width=\"24px\">\n",
              "    <path d=\"M0 0h24v24H0V0z\" fill=\"none\"/>\n",
              "    <path d=\"M18.56 5.44l.94 2.06.94-2.06 2.06-.94-2.06-.94-.94-2.06-.94 2.06-2.06.94zm-11 1L8.5 8.5l.94-2.06 2.06-.94-2.06-.94L8.5 2.5l-.94 2.06-2.06.94zm10 10l.94 2.06.94-2.06 2.06-.94-2.06-.94-.94-2.06-.94 2.06-2.06.94z\"/><path d=\"M17.41 7.96l-1.37-1.37c-.4-.4-.92-.59-1.43-.59-.52 0-1.04.2-1.43.59L10.3 9.45l-7.72 7.72c-.78.78-.78 2.05 0 2.83L4 21.41c.39.39.9.59 1.41.59.51 0 1.02-.2 1.41-.59l7.78-7.78 2.81-2.81c.8-.78.8-2.07 0-2.86zM5.41 20L4 18.59l7.72-7.72 1.47 1.35L5.41 20z\"/>\n",
              "  </svg>\n",
              "      </button>\n",
              "      \n",
              "  <style>\n",
              "    .colab-df-container {\n",
              "      display:flex;\n",
              "      flex-wrap:wrap;\n",
              "      gap: 12px;\n",
              "    }\n",
              "\n",
              "    .colab-df-convert {\n",
              "      background-color: #E8F0FE;\n",
              "      border: none;\n",
              "      border-radius: 50%;\n",
              "      cursor: pointer;\n",
              "      display: none;\n",
              "      fill: #1967D2;\n",
              "      height: 32px;\n",
              "      padding: 0 0 0 0;\n",
              "      width: 32px;\n",
              "    }\n",
              "\n",
              "    .colab-df-convert:hover {\n",
              "      background-color: #E2EBFA;\n",
              "      box-shadow: 0px 1px 2px rgba(60, 64, 67, 0.3), 0px 1px 3px 1px rgba(60, 64, 67, 0.15);\n",
              "      fill: #174EA6;\n",
              "    }\n",
              "\n",
              "    [theme=dark] .colab-df-convert {\n",
              "      background-color: #3B4455;\n",
              "      fill: #D2E3FC;\n",
              "    }\n",
              "\n",
              "    [theme=dark] .colab-df-convert:hover {\n",
              "      background-color: #434B5C;\n",
              "      box-shadow: 0px 1px 3px 1px rgba(0, 0, 0, 0.15);\n",
              "      filter: drop-shadow(0px 1px 2px rgba(0, 0, 0, 0.3));\n",
              "      fill: #FFFFFF;\n",
              "    }\n",
              "  </style>\n",
              "\n",
              "      <script>\n",
              "        const buttonEl =\n",
              "          document.querySelector('#df-31648660-1ef5-41f6-a8f7-ab3ff7d03e11 button.colab-df-convert');\n",
              "        buttonEl.style.display =\n",
              "          google.colab.kernel.accessAllowed ? 'block' : 'none';\n",
              "\n",
              "        async function convertToInteractive(key) {\n",
              "          const element = document.querySelector('#df-31648660-1ef5-41f6-a8f7-ab3ff7d03e11');\n",
              "          const dataTable =\n",
              "            await google.colab.kernel.invokeFunction('convertToInteractive',\n",
              "                                                     [key], {});\n",
              "          if (!dataTable) return;\n",
              "\n",
              "          const docLinkHtml = 'Like what you see? Visit the ' +\n",
              "            '<a target=\"_blank\" href=https://colab.research.google.com/notebooks/data_table.ipynb>data table notebook</a>'\n",
              "            + ' to learn more about interactive tables.';\n",
              "          element.innerHTML = '';\n",
              "          dataTable['output_type'] = 'display_data';\n",
              "          await google.colab.output.renderOutput(dataTable, element);\n",
              "          const docLink = document.createElement('div');\n",
              "          docLink.innerHTML = docLinkHtml;\n",
              "          element.appendChild(docLink);\n",
              "        }\n",
              "      </script>\n",
              "    </div>\n",
              "  </div>\n",
              "  "
            ]
          },
          "metadata": {}
        }
      ]
    },
    {
      "cell_type": "code",
      "source": [
        "display(tabela)"
      ],
      "metadata": {
        "id": "ZXx1hbb0vwuV",
        "outputId": "1e55492e-5651-411f-f8aa-c9bb461bcda5",
        "colab": {
          "base_uri": "https://localhost:8080/",
          "height": 423
        }
      },
      "execution_count": null,
      "outputs": [
        {
          "output_type": "display_data",
          "data": {
            "text/plain": [
              "       N° da fatura Data da fatura  ID Cliente            País  Quantidade  \\\n",
              "0            581483     09/12/2021       16446  United Kingdom       80995   \n",
              "1            541431     18/01/2021       12346  United Kingdom       74215   \n",
              "2            556917     15/06/2021       12415       Australia       15049   \n",
              "3            563076     11/08/2021       14646     Netherlands       14730   \n",
              "4            572035     20/10/2021       14646     Netherlands       13392   \n",
              "...             ...            ...         ...             ...         ...   \n",
              "18527        572774     26/10/2021       16966  United Kingdom           1   \n",
              "18528        562424     04/08/2021       12584           Italy           1   \n",
              "18529        570554     11/10/2021       14800  United Kingdom           1   \n",
              "18530        570681     11/10/2021       12381          Norway           1   \n",
              "18531        569099     30/09/2021       17961  United Kingdom           1   \n",
              "\n",
              "          Valor   \n",
              "0      168469.60  \n",
              "1       77183.60  \n",
              "2       22775.93  \n",
              "3       19150.66  \n",
              "4       20277.92  \n",
              "...          ...  \n",
              "18527       3.25  \n",
              "18528      12.75  \n",
              "18529       0.38  \n",
              "18530       6.00  \n",
              "18531       3.25  \n",
              "\n",
              "[18532 rows x 6 columns]"
            ],
            "text/html": [
              "\n",
              "  <div id=\"df-73ddc4c7-9193-4704-8211-839fb31efb7d\">\n",
              "    <div class=\"colab-df-container\">\n",
              "      <div>\n",
              "<style scoped>\n",
              "    .dataframe tbody tr th:only-of-type {\n",
              "        vertical-align: middle;\n",
              "    }\n",
              "\n",
              "    .dataframe tbody tr th {\n",
              "        vertical-align: top;\n",
              "    }\n",
              "\n",
              "    .dataframe thead th {\n",
              "        text-align: right;\n",
              "    }\n",
              "</style>\n",
              "<table border=\"1\" class=\"dataframe\">\n",
              "  <thead>\n",
              "    <tr style=\"text-align: right;\">\n",
              "      <th></th>\n",
              "      <th>N° da fatura</th>\n",
              "      <th>Data da fatura</th>\n",
              "      <th>ID Cliente</th>\n",
              "      <th>País</th>\n",
              "      <th>Quantidade</th>\n",
              "      <th>Valor</th>\n",
              "    </tr>\n",
              "  </thead>\n",
              "  <tbody>\n",
              "    <tr>\n",
              "      <th>0</th>\n",
              "      <td>581483</td>\n",
              "      <td>09/12/2021</td>\n",
              "      <td>16446</td>\n",
              "      <td>United Kingdom</td>\n",
              "      <td>80995</td>\n",
              "      <td>168469.60</td>\n",
              "    </tr>\n",
              "    <tr>\n",
              "      <th>1</th>\n",
              "      <td>541431</td>\n",
              "      <td>18/01/2021</td>\n",
              "      <td>12346</td>\n",
              "      <td>United Kingdom</td>\n",
              "      <td>74215</td>\n",
              "      <td>77183.60</td>\n",
              "    </tr>\n",
              "    <tr>\n",
              "      <th>2</th>\n",
              "      <td>556917</td>\n",
              "      <td>15/06/2021</td>\n",
              "      <td>12415</td>\n",
              "      <td>Australia</td>\n",
              "      <td>15049</td>\n",
              "      <td>22775.93</td>\n",
              "    </tr>\n",
              "    <tr>\n",
              "      <th>3</th>\n",
              "      <td>563076</td>\n",
              "      <td>11/08/2021</td>\n",
              "      <td>14646</td>\n",
              "      <td>Netherlands</td>\n",
              "      <td>14730</td>\n",
              "      <td>19150.66</td>\n",
              "    </tr>\n",
              "    <tr>\n",
              "      <th>4</th>\n",
              "      <td>572035</td>\n",
              "      <td>20/10/2021</td>\n",
              "      <td>14646</td>\n",
              "      <td>Netherlands</td>\n",
              "      <td>13392</td>\n",
              "      <td>20277.92</td>\n",
              "    </tr>\n",
              "    <tr>\n",
              "      <th>...</th>\n",
              "      <td>...</td>\n",
              "      <td>...</td>\n",
              "      <td>...</td>\n",
              "      <td>...</td>\n",
              "      <td>...</td>\n",
              "      <td>...</td>\n",
              "    </tr>\n",
              "    <tr>\n",
              "      <th>18527</th>\n",
              "      <td>572774</td>\n",
              "      <td>26/10/2021</td>\n",
              "      <td>16966</td>\n",
              "      <td>United Kingdom</td>\n",
              "      <td>1</td>\n",
              "      <td>3.25</td>\n",
              "    </tr>\n",
              "    <tr>\n",
              "      <th>18528</th>\n",
              "      <td>562424</td>\n",
              "      <td>04/08/2021</td>\n",
              "      <td>12584</td>\n",
              "      <td>Italy</td>\n",
              "      <td>1</td>\n",
              "      <td>12.75</td>\n",
              "    </tr>\n",
              "    <tr>\n",
              "      <th>18529</th>\n",
              "      <td>570554</td>\n",
              "      <td>11/10/2021</td>\n",
              "      <td>14800</td>\n",
              "      <td>United Kingdom</td>\n",
              "      <td>1</td>\n",
              "      <td>0.38</td>\n",
              "    </tr>\n",
              "    <tr>\n",
              "      <th>18530</th>\n",
              "      <td>570681</td>\n",
              "      <td>11/10/2021</td>\n",
              "      <td>12381</td>\n",
              "      <td>Norway</td>\n",
              "      <td>1</td>\n",
              "      <td>6.00</td>\n",
              "    </tr>\n",
              "    <tr>\n",
              "      <th>18531</th>\n",
              "      <td>569099</td>\n",
              "      <td>30/09/2021</td>\n",
              "      <td>17961</td>\n",
              "      <td>United Kingdom</td>\n",
              "      <td>1</td>\n",
              "      <td>3.25</td>\n",
              "    </tr>\n",
              "  </tbody>\n",
              "</table>\n",
              "<p>18532 rows × 6 columns</p>\n",
              "</div>\n",
              "      <button class=\"colab-df-convert\" onclick=\"convertToInteractive('df-73ddc4c7-9193-4704-8211-839fb31efb7d')\"\n",
              "              title=\"Convert this dataframe to an interactive table.\"\n",
              "              style=\"display:none;\">\n",
              "        \n",
              "  <svg xmlns=\"http://www.w3.org/2000/svg\" height=\"24px\"viewBox=\"0 0 24 24\"\n",
              "       width=\"24px\">\n",
              "    <path d=\"M0 0h24v24H0V0z\" fill=\"none\"/>\n",
              "    <path d=\"M18.56 5.44l.94 2.06.94-2.06 2.06-.94-2.06-.94-.94-2.06-.94 2.06-2.06.94zm-11 1L8.5 8.5l.94-2.06 2.06-.94-2.06-.94L8.5 2.5l-.94 2.06-2.06.94zm10 10l.94 2.06.94-2.06 2.06-.94-2.06-.94-.94-2.06-.94 2.06-2.06.94z\"/><path d=\"M17.41 7.96l-1.37-1.37c-.4-.4-.92-.59-1.43-.59-.52 0-1.04.2-1.43.59L10.3 9.45l-7.72 7.72c-.78.78-.78 2.05 0 2.83L4 21.41c.39.39.9.59 1.41.59.51 0 1.02-.2 1.41-.59l7.78-7.78 2.81-2.81c.8-.78.8-2.07 0-2.86zM5.41 20L4 18.59l7.72-7.72 1.47 1.35L5.41 20z\"/>\n",
              "  </svg>\n",
              "      </button>\n",
              "      \n",
              "  <style>\n",
              "    .colab-df-container {\n",
              "      display:flex;\n",
              "      flex-wrap:wrap;\n",
              "      gap: 12px;\n",
              "    }\n",
              "\n",
              "    .colab-df-convert {\n",
              "      background-color: #E8F0FE;\n",
              "      border: none;\n",
              "      border-radius: 50%;\n",
              "      cursor: pointer;\n",
              "      display: none;\n",
              "      fill: #1967D2;\n",
              "      height: 32px;\n",
              "      padding: 0 0 0 0;\n",
              "      width: 32px;\n",
              "    }\n",
              "\n",
              "    .colab-df-convert:hover {\n",
              "      background-color: #E2EBFA;\n",
              "      box-shadow: 0px 1px 2px rgba(60, 64, 67, 0.3), 0px 1px 3px 1px rgba(60, 64, 67, 0.15);\n",
              "      fill: #174EA6;\n",
              "    }\n",
              "\n",
              "    [theme=dark] .colab-df-convert {\n",
              "      background-color: #3B4455;\n",
              "      fill: #D2E3FC;\n",
              "    }\n",
              "\n",
              "    [theme=dark] .colab-df-convert:hover {\n",
              "      background-color: #434B5C;\n",
              "      box-shadow: 0px 1px 3px 1px rgba(0, 0, 0, 0.15);\n",
              "      filter: drop-shadow(0px 1px 2px rgba(0, 0, 0, 0.3));\n",
              "      fill: #FFFFFF;\n",
              "    }\n",
              "  </style>\n",
              "\n",
              "      <script>\n",
              "        const buttonEl =\n",
              "          document.querySelector('#df-73ddc4c7-9193-4704-8211-839fb31efb7d button.colab-df-convert');\n",
              "        buttonEl.style.display =\n",
              "          google.colab.kernel.accessAllowed ? 'block' : 'none';\n",
              "\n",
              "        async function convertToInteractive(key) {\n",
              "          const element = document.querySelector('#df-73ddc4c7-9193-4704-8211-839fb31efb7d');\n",
              "          const dataTable =\n",
              "            await google.colab.kernel.invokeFunction('convertToInteractive',\n",
              "                                                     [key], {});\n",
              "          if (!dataTable) return;\n",
              "\n",
              "          const docLinkHtml = 'Like what you see? Visit the ' +\n",
              "            '<a target=\"_blank\" href=https://colab.research.google.com/notebooks/data_table.ipynb>data table notebook</a>'\n",
              "            + ' to learn more about interactive tables.';\n",
              "          element.innerHTML = '';\n",
              "          dataTable['output_type'] = 'display_data';\n",
              "          await google.colab.output.renderOutput(dataTable, element);\n",
              "          const docLink = document.createElement('div');\n",
              "          docLink.innerHTML = docLinkHtml;\n",
              "          element.appendChild(docLink);\n",
              "        }\n",
              "      </script>\n",
              "    </div>\n",
              "  </div>\n",
              "  "
            ]
          },
          "metadata": {}
        }
      ]
    },
    {
      "cell_type": "code",
      "source": [
        "tabela.info()\n"
      ],
      "metadata": {
        "colab": {
          "base_uri": "https://localhost:8080/"
        },
        "id": "4NaKEDlKyqN0",
        "outputId": "af1fa25d-97d8-464f-e6fb-fc485ba2aca5"
      },
      "execution_count": null,
      "outputs": [
        {
          "output_type": "stream",
          "name": "stdout",
          "text": [
            "<class 'pandas.core.frame.DataFrame'>\n",
            "RangeIndex: 18532 entries, 0 to 18531\n",
            "Data columns (total 6 columns):\n",
            " #   Column          Non-Null Count  Dtype  \n",
            "---  ------          --------------  -----  \n",
            " 0   N° da fatura    18532 non-null  int64  \n",
            " 1   Data da fatura  18532 non-null  object \n",
            " 2   ID Cliente      18532 non-null  int64  \n",
            " 3   País            18532 non-null  object \n",
            " 4   Quantidade      18532 non-null  int64  \n",
            " 5    Valor          18532 non-null  float64\n",
            "dtypes: float64(1), int64(3), object(2)\n",
            "memory usage: 868.8+ KB\n"
          ]
        }
      ]
    },
    {
      "cell_type": "code",
      "source": [
        "print(tabela['Quantidade'].sum())"
      ],
      "metadata": {
        "colab": {
          "base_uri": "https://localhost:8080/"
        },
        "id": "0dNW8Wu88K-b",
        "outputId": "bbbce2de-c369-4550-d6c0-3b1127d37080"
      },
      "execution_count": null,
      "outputs": [
        {
          "output_type": "stream",
          "name": "stdout",
          "text": [
            "5161436\n"
          ]
        }
      ]
    },
    {
      "cell_type": "code",
      "source": [
        "print((tabela[' Valor '].sum())/(tabela['Quantidade'].sum()))"
      ],
      "metadata": {
        "colab": {
          "base_uri": "https://localhost:8080/"
        },
        "id": "XdHvLElU7ypD",
        "outputId": "7c9ab5c1-3ca0-4213-846a-f348ed0f4e91"
      },
      "execution_count": null,
      "outputs": [
        {
          "output_type": "stream",
          "name": "stdout",
          "text": [
            "1.7244539445999136\n"
          ]
        }
      ]
    },
    {
      "cell_type": "code",
      "source": [
        "#Media de pedidos por mes\n",
        "#13 numero de meses no dataset \n",
        "media_pedidos_mes = round(tabela['N° da fatura'].value_counts().sum()/13, 2)\n",
        "print('Media mensal de pedidos: ', media_pedidos_mes)"
      ],
      "metadata": {
        "colab": {
          "base_uri": "https://localhost:8080/"
        },
        "id": "ohvZ2lRzsICy",
        "outputId": "c49b23c0-4875-47e7-ca2e-9d1f06cf24b3"
      },
      "execution_count": null,
      "outputs": [
        {
          "output_type": "stream",
          "name": "stdout",
          "text": [
            "Media mensal de pedidos:  1425.54\n"
          ]
        }
      ]
    },
    {
      "cell_type": "code",
      "source": [
        "#Media de vendas por mes \n",
        "media_vendas_mes = round(tabela[' Valor '].sum()/13, 2)\n",
        "print('Media de vendas mensal: R$', media_vendas_mes) "
      ],
      "metadata": {
        "colab": {
          "base_uri": "https://localhost:8080/"
        },
        "id": "qPZf5A1wrAS6",
        "outputId": "793068b6-e49d-40e2-e7f8-66da267b2ff4"
      },
      "execution_count": null,
      "outputs": [
        {
          "output_type": "stream",
          "name": "stdout",
          "text": [
            "Media de vendas mensal: R$ 684666.05\n"
          ]
        }
      ]
    },
    {
      "cell_type": "code",
      "source": [
        "#top 10 Clientes com maiores volumes de compras\n",
        "tabela['ID Cliente'].value_counts().head(10)"
      ],
      "metadata": {
        "colab": {
          "base_uri": "https://localhost:8080/"
        },
        "id": "YPRJ1pMoP2Pl",
        "outputId": "ba876cbd-0bad-4faf-8705-f59e3bc58456"
      },
      "execution_count": null,
      "outputs": [
        {
          "output_type": "execute_result",
          "data": {
            "text/plain": [
              "12748    209\n",
              "14911    201\n",
              "17841    124\n",
              "13089     97\n",
              "14606     93\n",
              "15311     91\n",
              "12971     86\n",
              "14646     73\n",
              "16029     63\n",
              "13408     62\n",
              "Name: ID Cliente, dtype: int64"
            ]
          },
          "metadata": {},
          "execution_count": 7
        }
      ]
    },
    {
      "cell_type": "code",
      "source": [
        "#Media de cada pedido\n",
        "media_pedido = round(tabela[' Valor '].sum()/tabela['N° da fatura'].value_counts().sum(), 2)\n",
        "print('media de cada pedido: R$',media_pedido)"
      ],
      "metadata": {
        "colab": {
          "base_uri": "https://localhost:8080/"
        },
        "id": "y5aSPEmTlw0b",
        "outputId": "2884fed5-4ca0-42d9-cf1e-2fb14a39214a"
      },
      "execution_count": null,
      "outputs": [
        {
          "output_type": "stream",
          "name": "stdout",
          "text": [
            "media de cada pedido: R$ 480.29\n"
          ]
        }
      ]
    },
    {
      "cell_type": "code",
      "source": [
        "#vendas <20 \n",
        "vendas_20 = tabela['Quantidade'].value_counts().sum()\n",
        "print(vendas_20)"
      ],
      "metadata": {
        "colab": {
          "base_uri": "https://localhost:8080/"
        },
        "id": "WcMy2_RCMCT-",
        "outputId": "5c0e7a2f-a9e7-45ca-88ee-400f722543f9"
      },
      "execution_count": null,
      "outputs": [
        {
          "output_type": "stream",
          "name": "stdout",
          "text": [
            "18532\n"
          ]
        }
      ]
    },
    {
      "cell_type": "code",
      "source": [
        "#soma de itens vendidos em vendas <20 \n",
        "vendas_20 = tabela[tabela['Quantidade'] < 20].value_counts().sum()\n",
        "print('Total de vendas abaixo de 20 peças: ',vendas_20)"
      ],
      "metadata": {
        "colab": {
          "base_uri": "https://localhost:8080/"
        },
        "id": "vsUcc7ERTaAl",
        "outputId": "d5486383-2d76-4b7c-b1ce-76a7dca8ae9e"
      },
      "execution_count": null,
      "outputs": [
        {
          "output_type": "stream",
          "name": "stdout",
          "text": [
            "Total de vendas abaixo de 20 peças:  1248\n"
          ]
        }
      ]
    },
    {
      "cell_type": "code",
      "source": [
        "#Quantidade de vendas por país\n",
        "vendas_pais = tabela.groupby(['País'])['N° da fatura'].count()\n",
        "print(vendas_pais)"
      ],
      "metadata": {
        "colab": {
          "base_uri": "https://localhost:8080/"
        },
        "id": "fjozcgTyw-tC",
        "outputId": "039adc84-dc3c-42ab-b6f9-4611a57f5273"
      },
      "execution_count": null,
      "outputs": [
        {
          "output_type": "stream",
          "name": "stdout",
          "text": [
            "País\n",
            "Australia                  57\n",
            "Austria                    17\n",
            "Bahrain                     2\n",
            "Belgium                    98\n",
            "Brazil                      1\n",
            "Canada                      6\n",
            "Channel Islands            26\n",
            "Cyprus                     16\n",
            "Czech Republic              2\n",
            "Denmark                    18\n",
            "EIRE                      260\n",
            "European Community          4\n",
            "Finland                    41\n",
            "France                    389\n",
            "Germany                   457\n",
            "Greece                      5\n",
            "Iceland                     7\n",
            "Israel                      5\n",
            "Italy                      38\n",
            "Japan                      19\n",
            "Lebanon                     1\n",
            "Lithuania                   4\n",
            "Malta                       5\n",
            "Netherlands                94\n",
            "Norway                     36\n",
            "Poland                     19\n",
            "Portugal                   57\n",
            "RSA                         1\n",
            "Saudi Arabia                1\n",
            "Singapore                   7\n",
            "Spain                      90\n",
            "Sweden                     36\n",
            "Switzerland                51\n",
            "USA                         5\n",
            "United Arab Emirates        3\n",
            "United Kingdom          16646\n",
            "Unspecified                 8\n",
            "Name: N° da fatura, dtype: int64\n"
          ]
        }
      ]
    },
    {
      "cell_type": "code",
      "source": [
        "#Quantidade de vendas por país\n",
        "vendas_pais = tabela.groupby(['País'])[' Valor '].count()\n",
        "print(vendas_pais)"
      ],
      "metadata": {
        "colab": {
          "base_uri": "https://localhost:8080/"
        },
        "id": "kLQS6A42086w",
        "outputId": "8751ef2f-baa1-4cbf-b02e-b2ebc83b05f0"
      },
      "execution_count": null,
      "outputs": [
        {
          "output_type": "stream",
          "name": "stdout",
          "text": [
            "País\n",
            "Australia                  57\n",
            "Austria                    17\n",
            "Bahrain                     2\n",
            "Belgium                    98\n",
            "Brazil                      1\n",
            "Canada                      6\n",
            "Channel Islands            26\n",
            "Cyprus                     16\n",
            "Czech Republic              2\n",
            "Denmark                    18\n",
            "EIRE                      260\n",
            "European Community          4\n",
            "Finland                    41\n",
            "France                    389\n",
            "Germany                   457\n",
            "Greece                      5\n",
            "Iceland                     7\n",
            "Israel                      5\n",
            "Italy                      38\n",
            "Japan                      19\n",
            "Lebanon                     1\n",
            "Lithuania                   4\n",
            "Malta                       5\n",
            "Netherlands                94\n",
            "Norway                     36\n",
            "Poland                     19\n",
            "Portugal                   57\n",
            "RSA                         1\n",
            "Saudi Arabia                1\n",
            "Singapore                   7\n",
            "Spain                      90\n",
            "Sweden                     36\n",
            "Switzerland                51\n",
            "USA                         5\n",
            "United Arab Emirates        3\n",
            "United Kingdom          16646\n",
            "Unspecified                 8\n",
            "Name:  Valor , dtype: int64\n"
          ]
        }
      ]
    },
    {
      "cell_type": "code",
      "source": [
        "#valor de vendas por país\n",
        "#sort_values 'Valor' decrescente\n",
        "vendas_pais_valor = tabela[['País',' Valor ']].groupby('País').sum().sort_values(by=\" Valor \", ascending=False)\n",
        "display(vendas_pais_valor)"
      ],
      "metadata": {
        "colab": {
          "base_uri": "https://localhost:8080/",
          "height": 1000
        },
        "id": "rtCp5sv41RMQ",
        "outputId": "c1185cb0-c6d4-4c6d-9d7a-c885c35cf2d1"
      },
      "execution_count": null,
      "outputs": [
        {
          "output_type": "display_data",
          "data": {
            "text/plain": [
              "                          Valor \n",
              "País                            \n",
              "United Kingdom        7298806.28\n",
              "Netherlands            285446.34\n",
              "EIRE                   265341.00\n",
              "Germany                228867.14\n",
              "France                 208088.92\n",
              "Australia              138521.31\n",
              "Spain                   61577.11\n",
              "Switzerland             56443.95\n",
              "Belgium                 41196.34\n",
              "Sweden                  38378.33\n",
              "Japan                   37392.44\n",
              "Norway                  36165.44\n",
              "Portugal                33439.89\n",
              "Finland                 22546.08\n",
              "Singapore               21279.29\n",
              "Channel Islands         20450.44\n",
              "Denmark                 18955.34\n",
              "Italy                   17483.24\n",
              "Cyprus                  13590.38\n",
              "Austria                 10198.68\n",
              "Poland                   7334.65\n",
              "Israel                   7221.69\n",
              "Greece                   4760.52\n",
              "Iceland                  4310.00\n",
              "Canada                   3666.38\n",
              "USA                      3580.39\n",
              "Malta                    2725.59\n",
              "Unspecified              2667.07\n",
              "United Arab Emirates     1902.28\n",
              "Lebanon                  1693.88\n",
              "Lithuania                1661.06\n",
              "European Community       1300.25\n",
              "Brazil                   1143.60\n",
              "RSA                      1002.31\n",
              "Czech Republic            826.74\n",
              "Bahrain                   548.40\n",
              "Saudi Arabia              145.92"
            ],
            "text/html": [
              "\n",
              "  <div id=\"df-2cb0902c-d81e-4432-aaee-3f87b3b70394\">\n",
              "    <div class=\"colab-df-container\">\n",
              "      <div>\n",
              "<style scoped>\n",
              "    .dataframe tbody tr th:only-of-type {\n",
              "        vertical-align: middle;\n",
              "    }\n",
              "\n",
              "    .dataframe tbody tr th {\n",
              "        vertical-align: top;\n",
              "    }\n",
              "\n",
              "    .dataframe thead th {\n",
              "        text-align: right;\n",
              "    }\n",
              "</style>\n",
              "<table border=\"1\" class=\"dataframe\">\n",
              "  <thead>\n",
              "    <tr style=\"text-align: right;\">\n",
              "      <th></th>\n",
              "      <th>Valor</th>\n",
              "    </tr>\n",
              "    <tr>\n",
              "      <th>País</th>\n",
              "      <th></th>\n",
              "    </tr>\n",
              "  </thead>\n",
              "  <tbody>\n",
              "    <tr>\n",
              "      <th>United Kingdom</th>\n",
              "      <td>7298806.28</td>\n",
              "    </tr>\n",
              "    <tr>\n",
              "      <th>Netherlands</th>\n",
              "      <td>285446.34</td>\n",
              "    </tr>\n",
              "    <tr>\n",
              "      <th>EIRE</th>\n",
              "      <td>265341.00</td>\n",
              "    </tr>\n",
              "    <tr>\n",
              "      <th>Germany</th>\n",
              "      <td>228867.14</td>\n",
              "    </tr>\n",
              "    <tr>\n",
              "      <th>France</th>\n",
              "      <td>208088.92</td>\n",
              "    </tr>\n",
              "    <tr>\n",
              "      <th>Australia</th>\n",
              "      <td>138521.31</td>\n",
              "    </tr>\n",
              "    <tr>\n",
              "      <th>Spain</th>\n",
              "      <td>61577.11</td>\n",
              "    </tr>\n",
              "    <tr>\n",
              "      <th>Switzerland</th>\n",
              "      <td>56443.95</td>\n",
              "    </tr>\n",
              "    <tr>\n",
              "      <th>Belgium</th>\n",
              "      <td>41196.34</td>\n",
              "    </tr>\n",
              "    <tr>\n",
              "      <th>Sweden</th>\n",
              "      <td>38378.33</td>\n",
              "    </tr>\n",
              "    <tr>\n",
              "      <th>Japan</th>\n",
              "      <td>37392.44</td>\n",
              "    </tr>\n",
              "    <tr>\n",
              "      <th>Norway</th>\n",
              "      <td>36165.44</td>\n",
              "    </tr>\n",
              "    <tr>\n",
              "      <th>Portugal</th>\n",
              "      <td>33439.89</td>\n",
              "    </tr>\n",
              "    <tr>\n",
              "      <th>Finland</th>\n",
              "      <td>22546.08</td>\n",
              "    </tr>\n",
              "    <tr>\n",
              "      <th>Singapore</th>\n",
              "      <td>21279.29</td>\n",
              "    </tr>\n",
              "    <tr>\n",
              "      <th>Channel Islands</th>\n",
              "      <td>20450.44</td>\n",
              "    </tr>\n",
              "    <tr>\n",
              "      <th>Denmark</th>\n",
              "      <td>18955.34</td>\n",
              "    </tr>\n",
              "    <tr>\n",
              "      <th>Italy</th>\n",
              "      <td>17483.24</td>\n",
              "    </tr>\n",
              "    <tr>\n",
              "      <th>Cyprus</th>\n",
              "      <td>13590.38</td>\n",
              "    </tr>\n",
              "    <tr>\n",
              "      <th>Austria</th>\n",
              "      <td>10198.68</td>\n",
              "    </tr>\n",
              "    <tr>\n",
              "      <th>Poland</th>\n",
              "      <td>7334.65</td>\n",
              "    </tr>\n",
              "    <tr>\n",
              "      <th>Israel</th>\n",
              "      <td>7221.69</td>\n",
              "    </tr>\n",
              "    <tr>\n",
              "      <th>Greece</th>\n",
              "      <td>4760.52</td>\n",
              "    </tr>\n",
              "    <tr>\n",
              "      <th>Iceland</th>\n",
              "      <td>4310.00</td>\n",
              "    </tr>\n",
              "    <tr>\n",
              "      <th>Canada</th>\n",
              "      <td>3666.38</td>\n",
              "    </tr>\n",
              "    <tr>\n",
              "      <th>USA</th>\n",
              "      <td>3580.39</td>\n",
              "    </tr>\n",
              "    <tr>\n",
              "      <th>Malta</th>\n",
              "      <td>2725.59</td>\n",
              "    </tr>\n",
              "    <tr>\n",
              "      <th>Unspecified</th>\n",
              "      <td>2667.07</td>\n",
              "    </tr>\n",
              "    <tr>\n",
              "      <th>United Arab Emirates</th>\n",
              "      <td>1902.28</td>\n",
              "    </tr>\n",
              "    <tr>\n",
              "      <th>Lebanon</th>\n",
              "      <td>1693.88</td>\n",
              "    </tr>\n",
              "    <tr>\n",
              "      <th>Lithuania</th>\n",
              "      <td>1661.06</td>\n",
              "    </tr>\n",
              "    <tr>\n",
              "      <th>European Community</th>\n",
              "      <td>1300.25</td>\n",
              "    </tr>\n",
              "    <tr>\n",
              "      <th>Brazil</th>\n",
              "      <td>1143.60</td>\n",
              "    </tr>\n",
              "    <tr>\n",
              "      <th>RSA</th>\n",
              "      <td>1002.31</td>\n",
              "    </tr>\n",
              "    <tr>\n",
              "      <th>Czech Republic</th>\n",
              "      <td>826.74</td>\n",
              "    </tr>\n",
              "    <tr>\n",
              "      <th>Bahrain</th>\n",
              "      <td>548.40</td>\n",
              "    </tr>\n",
              "    <tr>\n",
              "      <th>Saudi Arabia</th>\n",
              "      <td>145.92</td>\n",
              "    </tr>\n",
              "  </tbody>\n",
              "</table>\n",
              "</div>\n",
              "      <button class=\"colab-df-convert\" onclick=\"convertToInteractive('df-2cb0902c-d81e-4432-aaee-3f87b3b70394')\"\n",
              "              title=\"Convert this dataframe to an interactive table.\"\n",
              "              style=\"display:none;\">\n",
              "        \n",
              "  <svg xmlns=\"http://www.w3.org/2000/svg\" height=\"24px\"viewBox=\"0 0 24 24\"\n",
              "       width=\"24px\">\n",
              "    <path d=\"M0 0h24v24H0V0z\" fill=\"none\"/>\n",
              "    <path d=\"M18.56 5.44l.94 2.06.94-2.06 2.06-.94-2.06-.94-.94-2.06-.94 2.06-2.06.94zm-11 1L8.5 8.5l.94-2.06 2.06-.94-2.06-.94L8.5 2.5l-.94 2.06-2.06.94zm10 10l.94 2.06.94-2.06 2.06-.94-2.06-.94-.94-2.06-.94 2.06-2.06.94z\"/><path d=\"M17.41 7.96l-1.37-1.37c-.4-.4-.92-.59-1.43-.59-.52 0-1.04.2-1.43.59L10.3 9.45l-7.72 7.72c-.78.78-.78 2.05 0 2.83L4 21.41c.39.39.9.59 1.41.59.51 0 1.02-.2 1.41-.59l7.78-7.78 2.81-2.81c.8-.78.8-2.07 0-2.86zM5.41 20L4 18.59l7.72-7.72 1.47 1.35L5.41 20z\"/>\n",
              "  </svg>\n",
              "      </button>\n",
              "      \n",
              "  <style>\n",
              "    .colab-df-container {\n",
              "      display:flex;\n",
              "      flex-wrap:wrap;\n",
              "      gap: 12px;\n",
              "    }\n",
              "\n",
              "    .colab-df-convert {\n",
              "      background-color: #E8F0FE;\n",
              "      border: none;\n",
              "      border-radius: 50%;\n",
              "      cursor: pointer;\n",
              "      display: none;\n",
              "      fill: #1967D2;\n",
              "      height: 32px;\n",
              "      padding: 0 0 0 0;\n",
              "      width: 32px;\n",
              "    }\n",
              "\n",
              "    .colab-df-convert:hover {\n",
              "      background-color: #E2EBFA;\n",
              "      box-shadow: 0px 1px 2px rgba(60, 64, 67, 0.3), 0px 1px 3px 1px rgba(60, 64, 67, 0.15);\n",
              "      fill: #174EA6;\n",
              "    }\n",
              "\n",
              "    [theme=dark] .colab-df-convert {\n",
              "      background-color: #3B4455;\n",
              "      fill: #D2E3FC;\n",
              "    }\n",
              "\n",
              "    [theme=dark] .colab-df-convert:hover {\n",
              "      background-color: #434B5C;\n",
              "      box-shadow: 0px 1px 3px 1px rgba(0, 0, 0, 0.15);\n",
              "      filter: drop-shadow(0px 1px 2px rgba(0, 0, 0, 0.3));\n",
              "      fill: #FFFFFF;\n",
              "    }\n",
              "  </style>\n",
              "\n",
              "      <script>\n",
              "        const buttonEl =\n",
              "          document.querySelector('#df-2cb0902c-d81e-4432-aaee-3f87b3b70394 button.colab-df-convert');\n",
              "        buttonEl.style.display =\n",
              "          google.colab.kernel.accessAllowed ? 'block' : 'none';\n",
              "\n",
              "        async function convertToInteractive(key) {\n",
              "          const element = document.querySelector('#df-2cb0902c-d81e-4432-aaee-3f87b3b70394');\n",
              "          const dataTable =\n",
              "            await google.colab.kernel.invokeFunction('convertToInteractive',\n",
              "                                                     [key], {});\n",
              "          if (!dataTable) return;\n",
              "\n",
              "          const docLinkHtml = 'Like what you see? Visit the ' +\n",
              "            '<a target=\"_blank\" href=https://colab.research.google.com/notebooks/data_table.ipynb>data table notebook</a>'\n",
              "            + ' to learn more about interactive tables.';\n",
              "          element.innerHTML = '';\n",
              "          dataTable['output_type'] = 'display_data';\n",
              "          await google.colab.output.renderOutput(dataTable, element);\n",
              "          const docLink = document.createElement('div');\n",
              "          docLink.innerHTML = docLinkHtml;\n",
              "          element.appendChild(docLink);\n",
              "        }\n",
              "      </script>\n",
              "    </div>\n",
              "  </div>\n",
              "  "
            ]
          },
          "metadata": {}
        }
      ]
    },
    {
      "cell_type": "code",
      "source": [
        "a = tabela[(tabela.País == 'United Kingdom') &\n",
        "           (tabela.Quantidade >20)]\n",
        "display(a)"
      ],
      "metadata": {
        "colab": {
          "base_uri": "https://localhost:8080/",
          "height": 423
        },
        "id": "f1-P3X1IWQFA",
        "outputId": "2c15165b-9b37-4f96-b1ce-46850ca97d42"
      },
      "execution_count": null,
      "outputs": [
        {
          "output_type": "display_data",
          "data": {
            "text/plain": [
              "       N° da fatura Data da fatura  ID Cliente            País  Quantidade  \\\n",
              "0            581483     09/12/2021       16446  United Kingdom       80995   \n",
              "1            541431     18/01/2021       12346  United Kingdom       74215   \n",
              "5            567423     20/09/2021       17450  United Kingdom       12572   \n",
              "8            562439     04/08/2021       12931  United Kingdom       11848   \n",
              "11           556267     09/06/2021       13694  United Kingdom        9811   \n",
              "...             ...            ...         ...             ...         ...   \n",
              "17187        547553     23/03/2021       15644  United Kingdom          21   \n",
              "17188        559504     08/07/2021       15920  United Kingdom          21   \n",
              "17189        574316     03/11/2021       17351  United Kingdom          21   \n",
              "17190        580069     01/12/2021       15060  United Kingdom          21   \n",
              "17191        573103     27/10/2021       16513  United Kingdom          21   \n",
              "\n",
              "          Valor   \n",
              "0      168469.60  \n",
              "1       77183.60  \n",
              "5       31698.16  \n",
              "8       18841.48  \n",
              "11       3027.31  \n",
              "...          ...  \n",
              "17187      36.40  \n",
              "17188      35.33  \n",
              "17189     159.85  \n",
              "17190      16.61  \n",
              "17191     108.45  \n",
              "\n",
              "[15451 rows x 6 columns]"
            ],
            "text/html": [
              "\n",
              "  <div id=\"df-3e27f60c-8213-4b59-8237-618e05cb0f4a\">\n",
              "    <div class=\"colab-df-container\">\n",
              "      <div>\n",
              "<style scoped>\n",
              "    .dataframe tbody tr th:only-of-type {\n",
              "        vertical-align: middle;\n",
              "    }\n",
              "\n",
              "    .dataframe tbody tr th {\n",
              "        vertical-align: top;\n",
              "    }\n",
              "\n",
              "    .dataframe thead th {\n",
              "        text-align: right;\n",
              "    }\n",
              "</style>\n",
              "<table border=\"1\" class=\"dataframe\">\n",
              "  <thead>\n",
              "    <tr style=\"text-align: right;\">\n",
              "      <th></th>\n",
              "      <th>N° da fatura</th>\n",
              "      <th>Data da fatura</th>\n",
              "      <th>ID Cliente</th>\n",
              "      <th>País</th>\n",
              "      <th>Quantidade</th>\n",
              "      <th>Valor</th>\n",
              "    </tr>\n",
              "  </thead>\n",
              "  <tbody>\n",
              "    <tr>\n",
              "      <th>0</th>\n",
              "      <td>581483</td>\n",
              "      <td>09/12/2021</td>\n",
              "      <td>16446</td>\n",
              "      <td>United Kingdom</td>\n",
              "      <td>80995</td>\n",
              "      <td>168469.60</td>\n",
              "    </tr>\n",
              "    <tr>\n",
              "      <th>1</th>\n",
              "      <td>541431</td>\n",
              "      <td>18/01/2021</td>\n",
              "      <td>12346</td>\n",
              "      <td>United Kingdom</td>\n",
              "      <td>74215</td>\n",
              "      <td>77183.60</td>\n",
              "    </tr>\n",
              "    <tr>\n",
              "      <th>5</th>\n",
              "      <td>567423</td>\n",
              "      <td>20/09/2021</td>\n",
              "      <td>17450</td>\n",
              "      <td>United Kingdom</td>\n",
              "      <td>12572</td>\n",
              "      <td>31698.16</td>\n",
              "    </tr>\n",
              "    <tr>\n",
              "      <th>8</th>\n",
              "      <td>562439</td>\n",
              "      <td>04/08/2021</td>\n",
              "      <td>12931</td>\n",
              "      <td>United Kingdom</td>\n",
              "      <td>11848</td>\n",
              "      <td>18841.48</td>\n",
              "    </tr>\n",
              "    <tr>\n",
              "      <th>11</th>\n",
              "      <td>556267</td>\n",
              "      <td>09/06/2021</td>\n",
              "      <td>13694</td>\n",
              "      <td>United Kingdom</td>\n",
              "      <td>9811</td>\n",
              "      <td>3027.31</td>\n",
              "    </tr>\n",
              "    <tr>\n",
              "      <th>...</th>\n",
              "      <td>...</td>\n",
              "      <td>...</td>\n",
              "      <td>...</td>\n",
              "      <td>...</td>\n",
              "      <td>...</td>\n",
              "      <td>...</td>\n",
              "    </tr>\n",
              "    <tr>\n",
              "      <th>17187</th>\n",
              "      <td>547553</td>\n",
              "      <td>23/03/2021</td>\n",
              "      <td>15644</td>\n",
              "      <td>United Kingdom</td>\n",
              "      <td>21</td>\n",
              "      <td>36.40</td>\n",
              "    </tr>\n",
              "    <tr>\n",
              "      <th>17188</th>\n",
              "      <td>559504</td>\n",
              "      <td>08/07/2021</td>\n",
              "      <td>15920</td>\n",
              "      <td>United Kingdom</td>\n",
              "      <td>21</td>\n",
              "      <td>35.33</td>\n",
              "    </tr>\n",
              "    <tr>\n",
              "      <th>17189</th>\n",
              "      <td>574316</td>\n",
              "      <td>03/11/2021</td>\n",
              "      <td>17351</td>\n",
              "      <td>United Kingdom</td>\n",
              "      <td>21</td>\n",
              "      <td>159.85</td>\n",
              "    </tr>\n",
              "    <tr>\n",
              "      <th>17190</th>\n",
              "      <td>580069</td>\n",
              "      <td>01/12/2021</td>\n",
              "      <td>15060</td>\n",
              "      <td>United Kingdom</td>\n",
              "      <td>21</td>\n",
              "      <td>16.61</td>\n",
              "    </tr>\n",
              "    <tr>\n",
              "      <th>17191</th>\n",
              "      <td>573103</td>\n",
              "      <td>27/10/2021</td>\n",
              "      <td>16513</td>\n",
              "      <td>United Kingdom</td>\n",
              "      <td>21</td>\n",
              "      <td>108.45</td>\n",
              "    </tr>\n",
              "  </tbody>\n",
              "</table>\n",
              "<p>15451 rows × 6 columns</p>\n",
              "</div>\n",
              "      <button class=\"colab-df-convert\" onclick=\"convertToInteractive('df-3e27f60c-8213-4b59-8237-618e05cb0f4a')\"\n",
              "              title=\"Convert this dataframe to an interactive table.\"\n",
              "              style=\"display:none;\">\n",
              "        \n",
              "  <svg xmlns=\"http://www.w3.org/2000/svg\" height=\"24px\"viewBox=\"0 0 24 24\"\n",
              "       width=\"24px\">\n",
              "    <path d=\"M0 0h24v24H0V0z\" fill=\"none\"/>\n",
              "    <path d=\"M18.56 5.44l.94 2.06.94-2.06 2.06-.94-2.06-.94-.94-2.06-.94 2.06-2.06.94zm-11 1L8.5 8.5l.94-2.06 2.06-.94-2.06-.94L8.5 2.5l-.94 2.06-2.06.94zm10 10l.94 2.06.94-2.06 2.06-.94-2.06-.94-.94-2.06-.94 2.06-2.06.94z\"/><path d=\"M17.41 7.96l-1.37-1.37c-.4-.4-.92-.59-1.43-.59-.52 0-1.04.2-1.43.59L10.3 9.45l-7.72 7.72c-.78.78-.78 2.05 0 2.83L4 21.41c.39.39.9.59 1.41.59.51 0 1.02-.2 1.41-.59l7.78-7.78 2.81-2.81c.8-.78.8-2.07 0-2.86zM5.41 20L4 18.59l7.72-7.72 1.47 1.35L5.41 20z\"/>\n",
              "  </svg>\n",
              "      </button>\n",
              "      \n",
              "  <style>\n",
              "    .colab-df-container {\n",
              "      display:flex;\n",
              "      flex-wrap:wrap;\n",
              "      gap: 12px;\n",
              "    }\n",
              "\n",
              "    .colab-df-convert {\n",
              "      background-color: #E8F0FE;\n",
              "      border: none;\n",
              "      border-radius: 50%;\n",
              "      cursor: pointer;\n",
              "      display: none;\n",
              "      fill: #1967D2;\n",
              "      height: 32px;\n",
              "      padding: 0 0 0 0;\n",
              "      width: 32px;\n",
              "    }\n",
              "\n",
              "    .colab-df-convert:hover {\n",
              "      background-color: #E2EBFA;\n",
              "      box-shadow: 0px 1px 2px rgba(60, 64, 67, 0.3), 0px 1px 3px 1px rgba(60, 64, 67, 0.15);\n",
              "      fill: #174EA6;\n",
              "    }\n",
              "\n",
              "    [theme=dark] .colab-df-convert {\n",
              "      background-color: #3B4455;\n",
              "      fill: #D2E3FC;\n",
              "    }\n",
              "\n",
              "    [theme=dark] .colab-df-convert:hover {\n",
              "      background-color: #434B5C;\n",
              "      box-shadow: 0px 1px 3px 1px rgba(0, 0, 0, 0.15);\n",
              "      filter: drop-shadow(0px 1px 2px rgba(0, 0, 0, 0.3));\n",
              "      fill: #FFFFFF;\n",
              "    }\n",
              "  </style>\n",
              "\n",
              "      <script>\n",
              "        const buttonEl =\n",
              "          document.querySelector('#df-3e27f60c-8213-4b59-8237-618e05cb0f4a button.colab-df-convert');\n",
              "        buttonEl.style.display =\n",
              "          google.colab.kernel.accessAllowed ? 'block' : 'none';\n",
              "\n",
              "        async function convertToInteractive(key) {\n",
              "          const element = document.querySelector('#df-3e27f60c-8213-4b59-8237-618e05cb0f4a');\n",
              "          const dataTable =\n",
              "            await google.colab.kernel.invokeFunction('convertToInteractive',\n",
              "                                                     [key], {});\n",
              "          if (!dataTable) return;\n",
              "\n",
              "          const docLinkHtml = 'Like what you see? Visit the ' +\n",
              "            '<a target=\"_blank\" href=https://colab.research.google.com/notebooks/data_table.ipynb>data table notebook</a>'\n",
              "            + ' to learn more about interactive tables.';\n",
              "          element.innerHTML = '';\n",
              "          dataTable['output_type'] = 'display_data';\n",
              "          await google.colab.output.renderOutput(dataTable, element);\n",
              "          const docLink = document.createElement('div');\n",
              "          docLink.innerHTML = docLinkHtml;\n",
              "          element.appendChild(docLink);\n",
              "        }\n",
              "      </script>\n",
              "    </div>\n",
              "  </div>\n",
              "  "
            ]
          },
          "metadata": {}
        }
      ]
    },
    {
      "cell_type": "code",
      "source": [
        "import matplotlib as plt\n",
        "pd.options.plotting.backend = 'plotly'\n"
      ],
      "metadata": {
        "id": "jDSayOZeZd_k"
      },
      "execution_count": null,
      "outputs": []
    },
    {
      "cell_type": "code",
      "source": [
        "vendas_pais_valor.plot()"
      ],
      "metadata": {
        "colab": {
          "base_uri": "https://localhost:8080/",
          "height": 542
        },
        "id": "6Jtqr4ZecTDs",
        "outputId": "ea411ff4-588e-4077-85ba-125aa45d8731"
      },
      "execution_count": null,
      "outputs": [
        {
          "output_type": "display_data",
          "data": {
            "text/html": [
              "<html>\n",
              "<head><meta charset=\"utf-8\" /></head>\n",
              "<body>\n",
              "    <div>            <script src=\"https://cdnjs.cloudflare.com/ajax/libs/mathjax/2.7.5/MathJax.js?config=TeX-AMS-MML_SVG\"></script><script type=\"text/javascript\">if (window.MathJax) {MathJax.Hub.Config({SVG: {font: \"STIX-Web\"}});}</script>                <script type=\"text/javascript\">window.PlotlyConfig = {MathJaxConfig: 'local'};</script>\n",
              "        <script src=\"https://cdn.plot.ly/plotly-2.8.3.min.js\"></script>                <div id=\"98b910d5-f92d-4d03-bd98-6fea355bff6b\" class=\"plotly-graph-div\" style=\"height:525px; width:100%;\"></div>            <script type=\"text/javascript\">                                    window.PLOTLYENV=window.PLOTLYENV || {};                                    if (document.getElementById(\"98b910d5-f92d-4d03-bd98-6fea355bff6b\")) {                    Plotly.newPlot(                        \"98b910d5-f92d-4d03-bd98-6fea355bff6b\",                        [{\"hovertemplate\":\"variable= Valor <br>Pa\\u00eds=%{x}<br>value=%{y}<extra></extra>\",\"legendgroup\":\" Valor \",\"line\":{\"color\":\"#636efa\",\"dash\":\"solid\"},\"marker\":{\"symbol\":\"circle\"},\"mode\":\"lines\",\"name\":\" Valor \",\"orientation\":\"v\",\"showlegend\":true,\"x\":[\"United Kingdom\",\"Netherlands\",\"EIRE\",\"Germany\",\"France\",\"Australia\",\"Spain\",\"Switzerland\",\"Belgium\",\"Sweden\",\"Japan\",\"Norway\",\"Portugal\",\"Finland\",\"Singapore\",\"Channel Islands\",\"Denmark\",\"Italy\",\"Cyprus\",\"Austria\",\"Poland\",\"Israel\",\"Greece\",\"Iceland\",\"Canada\",\"USA\",\"Malta\",\"Unspecified\",\"United Arab Emirates\",\"Lebanon\",\"Lithuania\",\"European Community\",\"Brazil\",\"RSA\",\"Czech Republic\",\"Bahrain\",\"Saudi Arabia\"],\"xaxis\":\"x\",\"y\":[7298806.28,285446.34,265341.0,228867.14,208088.92,138521.31,61577.11,56443.95,41196.34,38378.33,37392.44,36165.44,33439.89,22546.08,21279.29,20450.44,18955.34,17483.24,13590.38,10198.68,7334.65,7221.6900000000005,4760.5199999999995,4310.0,3666.38,3580.39,2725.59,2667.07,1902.28,1693.88,1661.06,1300.25,1143.6,1002.31,826.74,548.4,145.92],\"yaxis\":\"y\",\"type\":\"scatter\"}],                        {\"template\":{\"data\":{\"bar\":[{\"error_x\":{\"color\":\"#2a3f5f\"},\"error_y\":{\"color\":\"#2a3f5f\"},\"marker\":{\"line\":{\"color\":\"#E5ECF6\",\"width\":0.5},\"pattern\":{\"fillmode\":\"overlay\",\"size\":10,\"solidity\":0.2}},\"type\":\"bar\"}],\"barpolar\":[{\"marker\":{\"line\":{\"color\":\"#E5ECF6\",\"width\":0.5},\"pattern\":{\"fillmode\":\"overlay\",\"size\":10,\"solidity\":0.2}},\"type\":\"barpolar\"}],\"carpet\":[{\"aaxis\":{\"endlinecolor\":\"#2a3f5f\",\"gridcolor\":\"white\",\"linecolor\":\"white\",\"minorgridcolor\":\"white\",\"startlinecolor\":\"#2a3f5f\"},\"baxis\":{\"endlinecolor\":\"#2a3f5f\",\"gridcolor\":\"white\",\"linecolor\":\"white\",\"minorgridcolor\":\"white\",\"startlinecolor\":\"#2a3f5f\"},\"type\":\"carpet\"}],\"choropleth\":[{\"colorbar\":{\"outlinewidth\":0,\"ticks\":\"\"},\"type\":\"choropleth\"}],\"contour\":[{\"colorbar\":{\"outlinewidth\":0,\"ticks\":\"\"},\"colorscale\":[[0.0,\"#0d0887\"],[0.1111111111111111,\"#46039f\"],[0.2222222222222222,\"#7201a8\"],[0.3333333333333333,\"#9c179e\"],[0.4444444444444444,\"#bd3786\"],[0.5555555555555556,\"#d8576b\"],[0.6666666666666666,\"#ed7953\"],[0.7777777777777778,\"#fb9f3a\"],[0.8888888888888888,\"#fdca26\"],[1.0,\"#f0f921\"]],\"type\":\"contour\"}],\"contourcarpet\":[{\"colorbar\":{\"outlinewidth\":0,\"ticks\":\"\"},\"type\":\"contourcarpet\"}],\"heatmap\":[{\"colorbar\":{\"outlinewidth\":0,\"ticks\":\"\"},\"colorscale\":[[0.0,\"#0d0887\"],[0.1111111111111111,\"#46039f\"],[0.2222222222222222,\"#7201a8\"],[0.3333333333333333,\"#9c179e\"],[0.4444444444444444,\"#bd3786\"],[0.5555555555555556,\"#d8576b\"],[0.6666666666666666,\"#ed7953\"],[0.7777777777777778,\"#fb9f3a\"],[0.8888888888888888,\"#fdca26\"],[1.0,\"#f0f921\"]],\"type\":\"heatmap\"}],\"heatmapgl\":[{\"colorbar\":{\"outlinewidth\":0,\"ticks\":\"\"},\"colorscale\":[[0.0,\"#0d0887\"],[0.1111111111111111,\"#46039f\"],[0.2222222222222222,\"#7201a8\"],[0.3333333333333333,\"#9c179e\"],[0.4444444444444444,\"#bd3786\"],[0.5555555555555556,\"#d8576b\"],[0.6666666666666666,\"#ed7953\"],[0.7777777777777778,\"#fb9f3a\"],[0.8888888888888888,\"#fdca26\"],[1.0,\"#f0f921\"]],\"type\":\"heatmapgl\"}],\"histogram\":[{\"marker\":{\"pattern\":{\"fillmode\":\"overlay\",\"size\":10,\"solidity\":0.2}},\"type\":\"histogram\"}],\"histogram2d\":[{\"colorbar\":{\"outlinewidth\":0,\"ticks\":\"\"},\"colorscale\":[[0.0,\"#0d0887\"],[0.1111111111111111,\"#46039f\"],[0.2222222222222222,\"#7201a8\"],[0.3333333333333333,\"#9c179e\"],[0.4444444444444444,\"#bd3786\"],[0.5555555555555556,\"#d8576b\"],[0.6666666666666666,\"#ed7953\"],[0.7777777777777778,\"#fb9f3a\"],[0.8888888888888888,\"#fdca26\"],[1.0,\"#f0f921\"]],\"type\":\"histogram2d\"}],\"histogram2dcontour\":[{\"colorbar\":{\"outlinewidth\":0,\"ticks\":\"\"},\"colorscale\":[[0.0,\"#0d0887\"],[0.1111111111111111,\"#46039f\"],[0.2222222222222222,\"#7201a8\"],[0.3333333333333333,\"#9c179e\"],[0.4444444444444444,\"#bd3786\"],[0.5555555555555556,\"#d8576b\"],[0.6666666666666666,\"#ed7953\"],[0.7777777777777778,\"#fb9f3a\"],[0.8888888888888888,\"#fdca26\"],[1.0,\"#f0f921\"]],\"type\":\"histogram2dcontour\"}],\"mesh3d\":[{\"colorbar\":{\"outlinewidth\":0,\"ticks\":\"\"},\"type\":\"mesh3d\"}],\"parcoords\":[{\"line\":{\"colorbar\":{\"outlinewidth\":0,\"ticks\":\"\"}},\"type\":\"parcoords\"}],\"pie\":[{\"automargin\":true,\"type\":\"pie\"}],\"scatter\":[{\"marker\":{\"colorbar\":{\"outlinewidth\":0,\"ticks\":\"\"}},\"type\":\"scatter\"}],\"scatter3d\":[{\"line\":{\"colorbar\":{\"outlinewidth\":0,\"ticks\":\"\"}},\"marker\":{\"colorbar\":{\"outlinewidth\":0,\"ticks\":\"\"}},\"type\":\"scatter3d\"}],\"scattercarpet\":[{\"marker\":{\"colorbar\":{\"outlinewidth\":0,\"ticks\":\"\"}},\"type\":\"scattercarpet\"}],\"scattergeo\":[{\"marker\":{\"colorbar\":{\"outlinewidth\":0,\"ticks\":\"\"}},\"type\":\"scattergeo\"}],\"scattergl\":[{\"marker\":{\"colorbar\":{\"outlinewidth\":0,\"ticks\":\"\"}},\"type\":\"scattergl\"}],\"scattermapbox\":[{\"marker\":{\"colorbar\":{\"outlinewidth\":0,\"ticks\":\"\"}},\"type\":\"scattermapbox\"}],\"scatterpolar\":[{\"marker\":{\"colorbar\":{\"outlinewidth\":0,\"ticks\":\"\"}},\"type\":\"scatterpolar\"}],\"scatterpolargl\":[{\"marker\":{\"colorbar\":{\"outlinewidth\":0,\"ticks\":\"\"}},\"type\":\"scatterpolargl\"}],\"scatterternary\":[{\"marker\":{\"colorbar\":{\"outlinewidth\":0,\"ticks\":\"\"}},\"type\":\"scatterternary\"}],\"surface\":[{\"colorbar\":{\"outlinewidth\":0,\"ticks\":\"\"},\"colorscale\":[[0.0,\"#0d0887\"],[0.1111111111111111,\"#46039f\"],[0.2222222222222222,\"#7201a8\"],[0.3333333333333333,\"#9c179e\"],[0.4444444444444444,\"#bd3786\"],[0.5555555555555556,\"#d8576b\"],[0.6666666666666666,\"#ed7953\"],[0.7777777777777778,\"#fb9f3a\"],[0.8888888888888888,\"#fdca26\"],[1.0,\"#f0f921\"]],\"type\":\"surface\"}],\"table\":[{\"cells\":{\"fill\":{\"color\":\"#EBF0F8\"},\"line\":{\"color\":\"white\"}},\"header\":{\"fill\":{\"color\":\"#C8D4E3\"},\"line\":{\"color\":\"white\"}},\"type\":\"table\"}]},\"layout\":{\"annotationdefaults\":{\"arrowcolor\":\"#2a3f5f\",\"arrowhead\":0,\"arrowwidth\":1},\"autotypenumbers\":\"strict\",\"coloraxis\":{\"colorbar\":{\"outlinewidth\":0,\"ticks\":\"\"}},\"colorscale\":{\"diverging\":[[0,\"#8e0152\"],[0.1,\"#c51b7d\"],[0.2,\"#de77ae\"],[0.3,\"#f1b6da\"],[0.4,\"#fde0ef\"],[0.5,\"#f7f7f7\"],[0.6,\"#e6f5d0\"],[0.7,\"#b8e186\"],[0.8,\"#7fbc41\"],[0.9,\"#4d9221\"],[1,\"#276419\"]],\"sequential\":[[0.0,\"#0d0887\"],[0.1111111111111111,\"#46039f\"],[0.2222222222222222,\"#7201a8\"],[0.3333333333333333,\"#9c179e\"],[0.4444444444444444,\"#bd3786\"],[0.5555555555555556,\"#d8576b\"],[0.6666666666666666,\"#ed7953\"],[0.7777777777777778,\"#fb9f3a\"],[0.8888888888888888,\"#fdca26\"],[1.0,\"#f0f921\"]],\"sequentialminus\":[[0.0,\"#0d0887\"],[0.1111111111111111,\"#46039f\"],[0.2222222222222222,\"#7201a8\"],[0.3333333333333333,\"#9c179e\"],[0.4444444444444444,\"#bd3786\"],[0.5555555555555556,\"#d8576b\"],[0.6666666666666666,\"#ed7953\"],[0.7777777777777778,\"#fb9f3a\"],[0.8888888888888888,\"#fdca26\"],[1.0,\"#f0f921\"]]},\"colorway\":[\"#636efa\",\"#EF553B\",\"#00cc96\",\"#ab63fa\",\"#FFA15A\",\"#19d3f3\",\"#FF6692\",\"#B6E880\",\"#FF97FF\",\"#FECB52\"],\"font\":{\"color\":\"#2a3f5f\"},\"geo\":{\"bgcolor\":\"white\",\"lakecolor\":\"white\",\"landcolor\":\"#E5ECF6\",\"showlakes\":true,\"showland\":true,\"subunitcolor\":\"white\"},\"hoverlabel\":{\"align\":\"left\"},\"hovermode\":\"closest\",\"mapbox\":{\"style\":\"light\"},\"paper_bgcolor\":\"white\",\"plot_bgcolor\":\"#E5ECF6\",\"polar\":{\"angularaxis\":{\"gridcolor\":\"white\",\"linecolor\":\"white\",\"ticks\":\"\"},\"bgcolor\":\"#E5ECF6\",\"radialaxis\":{\"gridcolor\":\"white\",\"linecolor\":\"white\",\"ticks\":\"\"}},\"scene\":{\"xaxis\":{\"backgroundcolor\":\"#E5ECF6\",\"gridcolor\":\"white\",\"gridwidth\":2,\"linecolor\":\"white\",\"showbackground\":true,\"ticks\":\"\",\"zerolinecolor\":\"white\"},\"yaxis\":{\"backgroundcolor\":\"#E5ECF6\",\"gridcolor\":\"white\",\"gridwidth\":2,\"linecolor\":\"white\",\"showbackground\":true,\"ticks\":\"\",\"zerolinecolor\":\"white\"},\"zaxis\":{\"backgroundcolor\":\"#E5ECF6\",\"gridcolor\":\"white\",\"gridwidth\":2,\"linecolor\":\"white\",\"showbackground\":true,\"ticks\":\"\",\"zerolinecolor\":\"white\"}},\"shapedefaults\":{\"line\":{\"color\":\"#2a3f5f\"}},\"ternary\":{\"aaxis\":{\"gridcolor\":\"white\",\"linecolor\":\"white\",\"ticks\":\"\"},\"baxis\":{\"gridcolor\":\"white\",\"linecolor\":\"white\",\"ticks\":\"\"},\"bgcolor\":\"#E5ECF6\",\"caxis\":{\"gridcolor\":\"white\",\"linecolor\":\"white\",\"ticks\":\"\"}},\"title\":{\"x\":0.05},\"xaxis\":{\"automargin\":true,\"gridcolor\":\"white\",\"linecolor\":\"white\",\"ticks\":\"\",\"title\":{\"standoff\":15},\"zerolinecolor\":\"white\",\"zerolinewidth\":2},\"yaxis\":{\"automargin\":true,\"gridcolor\":\"white\",\"linecolor\":\"white\",\"ticks\":\"\",\"title\":{\"standoff\":15},\"zerolinecolor\":\"white\",\"zerolinewidth\":2}}},\"xaxis\":{\"anchor\":\"y\",\"domain\":[0.0,1.0],\"title\":{\"text\":\"Pa\\u00eds\"}},\"yaxis\":{\"anchor\":\"x\",\"domain\":[0.0,1.0],\"title\":{\"text\":\"value\"}},\"legend\":{\"title\":{\"text\":\"variable\"},\"tracegroupgap\":0},\"margin\":{\"t\":60}},                        {\"responsive\": true}                    ).then(function(){\n",
              "                            \n",
              "var gd = document.getElementById('98b910d5-f92d-4d03-bd98-6fea355bff6b');\n",
              "var x = new MutationObserver(function (mutations, observer) {{\n",
              "        var display = window.getComputedStyle(gd).display;\n",
              "        if (!display || display === 'none') {{\n",
              "            console.log([gd, 'removed!']);\n",
              "            Plotly.purge(gd);\n",
              "            observer.disconnect();\n",
              "        }}\n",
              "}});\n",
              "\n",
              "// Listen for the removal of the full notebook cells\n",
              "var notebookContainer = gd.closest('#notebook-container');\n",
              "if (notebookContainer) {{\n",
              "    x.observe(notebookContainer, {childList: true});\n",
              "}}\n",
              "\n",
              "// Listen for the clearing of the current output cell\n",
              "var outputEl = gd.closest('.output');\n",
              "if (outputEl) {{\n",
              "    x.observe(outputEl, {childList: true});\n",
              "}}\n",
              "\n",
              "                        })                };                            </script>        </div>\n",
              "</body>\n",
              "</html>"
            ]
          },
          "metadata": {}
        }
      ]
    }
  ]
}