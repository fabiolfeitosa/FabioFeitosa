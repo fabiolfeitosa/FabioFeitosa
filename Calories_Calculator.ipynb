{
  "nbformat": 4,
  "nbformat_minor": 0,
  "metadata": {
    "colab": {
      "provenance": [],
      "authorship_tag": "ABX9TyMun4wO9sns74vwz3KEEH+d",
      "include_colab_link": true
    },
    "kernelspec": {
      "name": "python3",
      "display_name": "Python 3"
    },
    "language_info": {
      "name": "python"
    }
  },
  "cells": [
    {
      "cell_type": "markdown",
      "metadata": {
        "id": "view-in-github",
        "colab_type": "text"
      },
      "source": [
        "<a href=\"https://colab.research.google.com/github/fabiolfeitosa/FabioFeitosa/blob/main/Calories_Calculator.ipynb\" target=\"_parent\"><img src=\"https://colab.research.google.com/assets/colab-badge.svg\" alt=\"Open In Colab\"/></a>"
      ]
    },
    {
      "cell_type": "code",
      "source": [
        "def eer():\n",
        "    if idade < 8 and genero == 'm':\n",
        "        total = 88.5 - (61.9 * idade) + af * (26.7 * peso) + (903 * altura) + 20\n",
        "        print(f'\\nCaloria diaria menino de 3 a 8 anos: {total:.2f} ')\n",
        "    elif idade < 18 and genero == 'm':\n",
        "        total = 88.5 - (61.9 * idade) + af * (26.7 * peso) + (903 * altura) + 25\n",
        "        print(f'\\nCaloria diaria adolescente masculino de 9 a 18 anos: {total:.2f} ')\n",
        "    elif idade < 8 and genero == 'f':\n",
        "        total = 135.3 - (30.8 * idade) + af * (10.0 * peso) + (934 * altura) + 20\n",
        "        print(f'\\nCaloria diaria menina de 3 a 8 anos: {total:.2f} ')\n",
        "    elif idade < 18 and genero == 'f':\n",
        "        total = 135.3 - (30.8 * idade) + af * (10.0 * peso) + (934 * altura) + 25\n",
        "        print(f'\\nCaloria diaria adolescente feminino de 9 a 18 anos: {total:.2f} ')\n",
        "    elif idade >= 18 and genero == 'm':\n",
        "        total = 662 - (9.53 * idade) + af * (15.91 * peso) + (539.6 * altura)\n",
        "        print(f'\\nCaloria diaria adulto masculino: {total:.2f} ')\n",
        "    elif idade >= 18 and genero == 'f':\n",
        "        total = 354 - (6.91 * idade) + af * (9.36 * peso) + (726 * altura)\n",
        "        print(f'\\nCaloria diaria adulto feminino: {total:.2f} ')\n",
        "        if ig > 12:\n",
        "          total = 354 - (6.91 * idade) + af * (9.36 * peso) + (726 * altura) + (8 * ig + 180)\n",
        "          print(f'\\nCaloria diaria gestante com de {ig} semanas: {total:.2f} ')\n",
        "          total = 354 - (6.91 * idade) + af * (9.36 * peso) + (726 * altura) + 330\n",
        "          print(f'\\nCaloria diaria lactante 1° semestre: {total:.2f} ')\n",
        "          total = 354 - (6.91 * idade) + af * (9.36 * peso) + (726 * altura) + 400\n",
        "          print(f'\\nCaloria diaria lactante 2° semestre: {total:.2f} ')\n",
        "    else: print('Dados fornecidos errado')\n",
        "\n",
        "def bee():\n",
        "    if idade < 18 and genero == 'm':\n",
        "        total = 68 - (43.3 * idade) + (712 * altura) + (19.2 * peso)\n",
        "        print(f'\\nCaloria diaria menino/adolescente com peso normal abaixo de 18 anos: {total:.2f} ')\n",
        "        total = 419.9 - (35.5 * idade) + (418.9 * altura) + (16.7 * peso)\n",
        "        print(f'\\nCaloria diaria menino/adolescente com sobrepeso/obesidade abaixo de 18 anos: {total:.2f} ')\n",
        "    elif idade < 18 and genero == 'f':\n",
        "        total = 189 - (17.6 * idade) + (625 * altura) + (7.9 * peso)\n",
        "        print(f'\\nCaloria diaria menina/adolescente com peso normal abaixo de 18 anos: {total:.2f} ')\n",
        "        total = 515.8 - (26.8 * idade) + (347 * altura) + (12.4 * peso)\n",
        "        print(f'\\nCaloria diaria menina/adolescente com sobrepeso/obesidade abaixo de 18 anos: {total:.2f} ')\n",
        "    elif idade >= 18 and genero == 'm':\n",
        "        total = 204 - (4 * idade) + (450.5 * altura) + (11.69 * peso)\n",
        "        print(f'\\nCaloria diaria adulto com peso normal: {total:.2f} ')\n",
        "        total = 293 - (3.8 * idade) + (456.4 * altura) + (10.12 * peso)\n",
        "        print(f'\\nCaloria diaria adulto com sobrepeso/obesidade: {total:.2f} ')\n",
        "    elif idade >= 18 and genero == 'f':\n",
        "        total = 255 - (2.35 * idade) + (361.6 * altura) + (9.39 * peso)\n",
        "        print(f'\\nCaloria diaria adulto feminino com peso normal: {total:.2f} ')\n",
        "        total = 247 - (2.67 * idade) + (401.5 * altura) + (8.6 * peso)\n",
        "        print(f'\\nCaloria diaria adulto feminino com sobrepeso/obesidade: {total:.2f} ')\n",
        "    else: print('Dados fornecidos errado')\n"
      ],
      "metadata": {
        "id": "nUPZkUw0yYL7"
      },
      "execution_count": null,
      "outputs": []
    },
    {
      "cell_type": "code",
      "source": [
        "print('**************Calories Calculator)************** ')\n",
        "\n",
        "genero = input('\\nDigite uma opção abaixo: \\n(m)Masculino\\n(f)Feminino\\n ')\n",
        "ig = int(input('\\nDigite idade gestacional em semanas: '))\n",
        "idade = float(input('\\nDigite idade:'))\n",
        "peso = float(input('\\nDigite peso:'))\n",
        "altura = float(input('\\nDigite altura:'))\n",
        "af = float(input('\\nInsira  Fator de Atividade Física:'))\n",
        "opcao = int(input('\\nQual método de avaliação \\n 1 - EER \\n 2 - BEE\\n'))\n",
        "\n",
        "if opcao == 1:\n",
        "    eer()\n",
        "    print('Metodo Eer selecionado')\n",
        "elif opcao == 2:\n",
        "    bee()\n",
        "    print('Metodo Bee selecionado')\n",
        "else: print('Selecione método de avaliação válido!')\n",
        "\n",
        "input(\"Pressione <enter> para encerrar!\")\n",
        "#para executavel não encerrar sozinho após finalizar "
      ],
      "metadata": {
        "id": "0LqVSdrYyUJs"
      },
      "execution_count": null,
      "outputs": []
    }
  ]
}